{
  "cells": [
    {
      "cell_type": "markdown",
      "metadata": {
        "id": "view-in-github",
        "colab_type": "text"
      },
      "source": [
        "<a href=\"https://colab.research.google.com/github/ximman/Bewise-test-task-/blob/dev/Bewise_(test%20task).ipynb\" target=\"_parent\"><img src=\"https://colab.research.google.com/assets/colab-badge.svg\" alt=\"Open In Colab\"/></a>"
      ]
    },
    {
      "cell_type": "code",
      "execution_count": 1,
      "metadata": {
        "colab": {
          "base_uri": "https://localhost:8080/"
        },
        "id": "21xyRLr7uwrj",
        "outputId": "35c6cdd1-88e9-4d8c-e5e6-40a455cc1e25"
      },
      "outputs": [
        {
          "output_type": "stream",
          "name": "stdout",
          "text": [
            "Looking in indexes: https://pypi.org/simple, https://us-python.pkg.dev/colab-wheels/public/simple/\n",
            "Collecting natasha\n",
            "  Downloading natasha-1.4.0-py3-none-any.whl (34.4 MB)\n",
            "\u001b[K     |████████████████████████████████| 34.4 MB 1.3 MB/s \n",
            "\u001b[?25hCollecting slovnet>=0.3.0\n",
            "  Downloading slovnet-0.5.0-py3-none-any.whl (49 kB)\n",
            "\u001b[K     |████████████████████████████████| 49 kB 6.7 MB/s \n",
            "\u001b[?25hCollecting razdel>=0.5.0\n",
            "  Downloading razdel-0.5.0-py3-none-any.whl (21 kB)\n",
            "Collecting ipymarkup>=0.8.0\n",
            "  Downloading ipymarkup-0.9.0-py3-none-any.whl (14 kB)\n",
            "Collecting navec>=0.9.0\n",
            "  Downloading navec-0.10.0-py3-none-any.whl (23 kB)\n",
            "Collecting yargy>=0.14.0\n",
            "  Downloading yargy-0.15.0-py3-none-any.whl (41 kB)\n",
            "\u001b[K     |████████████████████████████████| 41 kB 133 kB/s \n",
            "\u001b[?25hCollecting pymorphy2\n",
            "  Downloading pymorphy2-0.9.1-py3-none-any.whl (55 kB)\n",
            "\u001b[K     |████████████████████████████████| 55 kB 3.8 MB/s \n",
            "\u001b[?25hCollecting intervaltree>=3\n",
            "  Downloading intervaltree-3.1.0.tar.gz (32 kB)\n",
            "Requirement already satisfied: sortedcontainers<3.0,>=2.0 in /usr/local/lib/python3.7/dist-packages (from intervaltree>=3->ipymarkup>=0.8.0->natasha) (2.4.0)\n",
            "Requirement already satisfied: numpy in /usr/local/lib/python3.7/dist-packages (from navec>=0.9.0->natasha) (1.21.6)\n",
            "Collecting pymorphy2-dicts-ru<3.0,>=2.4\n",
            "  Downloading pymorphy2_dicts_ru-2.4.417127.4579844-py2.py3-none-any.whl (8.2 MB)\n",
            "\u001b[K     |████████████████████████████████| 8.2 MB 20.3 MB/s \n",
            "\u001b[?25hCollecting dawg-python>=0.7.1\n",
            "  Downloading DAWG_Python-0.7.2-py2.py3-none-any.whl (11 kB)\n",
            "Collecting docopt>=0.6\n",
            "  Downloading docopt-0.6.2.tar.gz (25 kB)\n",
            "Building wheels for collected packages: intervaltree, docopt\n",
            "  Building wheel for intervaltree (setup.py) ... \u001b[?25l\u001b[?25hdone\n",
            "  Created wheel for intervaltree: filename=intervaltree-3.1.0-py2.py3-none-any.whl size=26119 sha256=cdeb0007946f5d0430db04cc9e9027271cd91c6e99db2bf5abc37884e91a2488\n",
            "  Stored in directory: /root/.cache/pip/wheels/16/85/bd/1001cbb46dcfb71c2001cd7401c6fb250392f22a81ce3722f7\n",
            "  Building wheel for docopt (setup.py) ... \u001b[?25l\u001b[?25hdone\n",
            "  Created wheel for docopt: filename=docopt-0.6.2-py2.py3-none-any.whl size=13723 sha256=9d69002053f2ed62bf9b35742e1d95e0f7316d513cbff4d361994da9f7334db7\n",
            "  Stored in directory: /root/.cache/pip/wheels/72/b0/3f/1d95f96ff986c7dfffe46ce2be4062f38ebd04b506c77c81b9\n",
            "Successfully built intervaltree docopt\n",
            "Installing collected packages: pymorphy2-dicts-ru, docopt, dawg-python, razdel, pymorphy2, navec, intervaltree, yargy, slovnet, ipymarkup, natasha\n",
            "  Attempting uninstall: intervaltree\n",
            "    Found existing installation: intervaltree 2.1.0\n",
            "    Uninstalling intervaltree-2.1.0:\n",
            "      Successfully uninstalled intervaltree-2.1.0\n",
            "Successfully installed dawg-python-0.7.2 docopt-0.6.2 intervaltree-3.1.0 ipymarkup-0.9.0 natasha-1.4.0 navec-0.10.0 pymorphy2-0.9.1 pymorphy2-dicts-ru-2.4.417127.4579844 razdel-0.5.0 slovnet-0.5.0 yargy-0.15.0\n"
          ]
        }
      ],
      "source": [
        "pip install natasha #загружаем модель Наташа для работы с русскоязычными текстами"
      ]
    },
    {
      "cell_type": "code",
      "execution_count": 2,
      "metadata": {
        "colab": {
          "base_uri": "https://localhost:8080/"
        },
        "id": "dhlmfDOq6jfZ",
        "outputId": "fa3a24c9-61b4-4b9e-857e-44906587f8ab"
      },
      "outputs": [
        {
          "output_type": "stream",
          "name": "stdout",
          "text": [
            "Mounted at /content/drive\n"
          ]
        }
      ],
      "source": [
        "import requests #для запросов на сайты (подгрузка приветствий, прощаний, имён)\n",
        "import pandas as pd #работа с таблицами\n",
        "import re #регулярные выражения для извлечения нужных отрезков текстов\n",
        "from natasha import (     \n",
        "    Segmenter,\n",
        "    MorphVocab,  \n",
        "    PER,\n",
        "    NamesExtractor, #модули Наташи, которые нам пригодятся (морфологический анализ, извлечение имён, эмбеддинг и разметка по новостям, анализ синтаксиса)\n",
        "    NewsNERTagger,   \n",
        "    NewsEmbedding,\n",
        "    NewsSyntaxParser,\n",
        "    Doc\n",
        ")\n",
        "emb = NewsEmbedding()\n",
        "segmenter = Segmenter()\n",
        "morph_vocab = MorphVocab()\n",
        "ner_tagger = NewsNERTagger(emb)\n",
        "names_extractor = NamesExtractor(morph_vocab) #создаём методы на основе подключенных модулей\n",
        "syntax_parser = NewsSyntaxParser(emb)\n",
        "\n",
        "from google.colab import drive\n",
        "drive.mount('/content/drive') #подгружаем исходные данные с диска"
      ]
    },
    {
      "cell_type": "markdown",
      "metadata": {
        "id": "_C3Gz36hMa0U"
      },
      "source": [
        "Создаём список прощаний"
      ]
    },
    {
      "cell_type": "code",
      "execution_count": 4,
      "metadata": {
        "id": "9uOyCJkB6qg5"
      },
      "outputs": [],
      "source": [
        "word_for_url = requests.utils.quote('до свидания') #проанализировав прощания, у «до свидания» самая адекватная выборка синонимов; забираем их в список прощаний\n",
        "url = 'http://www.synonymizer.ru/index.php?sword=' + word_for_url #формируем URL адрес\n",
        "headers = {'User-Agent': 'Mozilla/5.0 (Windows NT 10.0; Win64; x64) AppleWebKit/537.36 (KHTML, like Gecko) Chrome/104.0.0.0 Safari/537.36'} #беру из инструмента разработчика браузера\n",
        "r = requests.get(url, headers = headers) #формируем запрос\n",
        "r = r.text.splitlines() #делим ответ с сайта на строки для упрощения обработки\n",
        "list_1 = [] #создаём список, в который будем записывать нужные строки\n",
        "for i in range(len(r)):\n",
        "  if 'База синонимов' in r[i]: #по структуре вернувшейся страницы извлекаем синонимы с трёх баз синонимов\n",
        "    while r[i] != '</div>': #этими символами заканчивается блок с синонимами с трёх баз\n",
        "      list_1.append(r[i+1])\n",
        "      i += 1\n",
        "s = [] #создаём список, в который будем складывать индексы пустых элементов списка синонимов, чтобы потом удалить их\n",
        "for l in range(len(list_1)):\n",
        "  list_1[l] = list_1[l].replace('<p>', '') #\n",
        "  list_1[l] = list_1[l].replace('</p>', '') #чистим список прощаний от ненужных нам символов\n",
        "  list_1[l] = list_1[l].replace('</div>', '') #\n",
        "  if list_1[l] == '': #определяем пустой элемент\n",
        "    s.append(l) #записываем в расстрельный список его порядковый номер\n",
        "for j in reversed(s): #считываем с обратной стороны, чтобы удалённые элементы не сдвигали нумерацию непроанализированных элементов\n",
        "  list_1.pop(j) #выкидываем пустой элемент, который может появиться, если одна из баз синонимов пустая\n",
        "string = '' #создаём строку, в которую будем объединять список синонимов, элементы которого на данный момент склеенные\n",
        "for k in range(len(list_1)):\n",
        "  if k > 0:\n",
        "    string += ', '+ list_1[k] #преобразуем список в строку\n",
        "  else: string += list_1[k]\n",
        "list_2 = string.split(', ') #разделяем строку по запятой в список синонимов\n",
        "for i in reversed(range(len(list_2))): #проверяем строку на наличие скобок с конца, чтобы не нарушать нумерацию непроверенных элементов\n",
        "  if '(' in list_2[i] or ')' in list_2[i]: #разобраемся со скобками, например, в списке есть элемент «здравствуй(те)», который никогда не встретится в диалоге\n",
        "    list_2.pop(i)\n",
        "list_bye = list(set(list_2)) #убираем повторяющиеся синонимы в списке"
      ]
    },
    {
      "cell_type": "markdown",
      "metadata": {
        "id": "lI8HeWeBdCy0"
      },
      "source": [
        "Ручной ввод прощания в список прощаний"
      ]
    },
    {
      "cell_type": "code",
      "execution_count": null,
      "metadata": {
        "id": "kiBVdXC7dc6Y"
      },
      "outputs": [],
      "source": [
        "flag_repeat = False #метка, показывающая, что добавляемое прощание уже есть в списке\n",
        "add_bye = input('Введите прощание, которое нужно добавить в список: ').lower() #вводим прощание и преобразуем в строчные буквы, потому что весь список прощаний из строчных\n",
        "for i in range(len(list_bye)): #проводим перебор по всем прощаниям\n",
        "  if add_bye == list_bye[i]: #при условии совпадения добавляемого прощания с элементом списка\n",
        "    print('Прощание \"', add_bye, '\" уже есть в списке прощаний', sep = '')\n",
        "    flag_repeat = True #если совпадение, то устанавливаем флаг\n",
        "    break #прерываем цикл сравнения\n",
        "if flag_repeat == False: #если во всём списке нет совпадений, то выполняем условие\n",
        "  list_bye.append(add_bye)\n",
        "  print('Прощание \"', add_bye, '\" добавлено в список прощаний', sep = '')"
      ]
    },
    {
      "cell_type": "markdown",
      "metadata": {
        "id": "LJHy6LqzgPxa"
      },
      "source": [
        "Ручное удаление прощания из списка прощаний"
      ]
    },
    {
      "cell_type": "code",
      "execution_count": null,
      "metadata": {
        "id": "2QX-zGj4gTWF"
      },
      "outputs": [],
      "source": [
        "flag_repeat = False #аналогично предыдущему блоку метка на повтор\n",
        "del_bye = input('Введите прощание, которое нужно удалить из списка: ').lower() #вводим прощание, которое, по нашему мнению, лишнее в списке\n",
        "for i in range(len(list_bye)): #перебираем весь список прощаний\n",
        "  if del_bye == list_bye[i]: #при совпадении вводимого прощания с элементом списка\n",
        "    flag_repeat = True #при совпадении меням метку\n",
        "    list_bye.pop(i) #удаляем совпавший элемент списка\n",
        "    print('Прощание \"', del_bye, '\" удалено из списка прощаний', sep = '')\n",
        "    break #выходим из цикла перебора\n",
        "if flag_repeat == False: #если метка не изменилась, значит совпадений не было\n",
        "  print('Прощание \"', del_bye, '\" не найдено в списке прощаний', sep = '')"
      ]
    },
    {
      "cell_type": "markdown",
      "metadata": {
        "id": "wUPlLLnMMe9W"
      },
      "source": [
        "Создаём список приветствий"
      ]
    },
    {
      "cell_type": "code",
      "execution_count": 5,
      "metadata": {
        "id": "CdFSN0xLlnD_"
      },
      "outputs": [],
      "source": [
        "word_for_url = requests.utils.quote('доброе утро') #по аналогии с прощанием кодируем самое подходящее по синонимам приветствие для URL запроса\n",
        "url = 'http://www.synonymizer.ru/index.php?sword=' + word_for_url #формируем URL адрес\n",
        "headers = {'User-Agent': 'Mozilla/5.0 (Windows NT 10.0; Win64; x64) AppleWebKit/537.36 (KHTML, like Gecko) Chrome/104.0.0.0 Safari/537.36'} #беру из инструмента разработчика браузера\n",
        "r = requests.get(url, headers = headers) #записываем в переменную ответ на запрос\n",
        "r = r.text.splitlines() #разбиваем полученную массу текста на строки\n",
        "list_1 = []\n",
        "for i in range(len(r)):\n",
        "  if 'База синонимов' in r[i]: #снова по ключевым словам определяем начало базы синонимов\n",
        "    while r[i] != '</div>':\n",
        "      list_1.append(r[i+1])\n",
        "      i += 1\n",
        "s = []\n",
        "for l in range(len(list_1)):\n",
        "  list_1[l] = list_1[l].replace('<p>', '')\n",
        "  list_1[l] = list_1[l].replace('</p>', '')\n",
        "  list_1[l] = list_1[l].replace('</div>', '') #чистим полученные синонимы от посторонних символов\n",
        "  if list_1[l] == '': \n",
        "    s.append(l)\n",
        "for j in reversed(s):\n",
        "  list_1.pop(j)\n",
        "string = ''\n",
        "for k in range(len(list_1)):\n",
        "  if k > 0:\n",
        "    string += ', '+ list_1[k]\n",
        "  else: string += list_1[k]\n",
        "list_2 = string.split(', ')\n",
        "for i in reversed(range(len(list_2))):\n",
        "  if '(' in list_2[i] or ')' in list_2[i]: #все шаги по подобию создания списка прощаний\n",
        "    list_2.pop(i)\n",
        "list_hello = list(set(list_2))"
      ]
    },
    {
      "cell_type": "markdown",
      "metadata": {
        "id": "IUKh2RhkmK0r"
      },
      "source": [
        "Ручное добавление приветствия в список приветствий"
      ]
    },
    {
      "cell_type": "code",
      "execution_count": null,
      "metadata": {
        "id": "Em2xEzwomRhn"
      },
      "outputs": [],
      "source": [
        "flag_repeat = False\n",
        "add_hello = input('Введите приветствие, которое нужно добавить в список: ').lower()\n",
        "for i in range(len(list_hello)):\n",
        "  if add_hello == list_hello[i]:\n",
        "    print('Приветствие \"', add_hello, '\" уже есть в списке приветствий', sep = '') #все шаги схожи со списком прощаний\n",
        "    flag_repeat = True\n",
        "    break\n",
        "if flag_repeat == False:\n",
        "  list_hello.append(add_hello)\n",
        "  print('Приветствие \"', add_hello, '\" добавлено в список приветствий', sep = '')"
      ]
    },
    {
      "cell_type": "markdown",
      "metadata": {
        "id": "rb0g0g2XmsPm"
      },
      "source": [
        "Ручное удаление приветствия из списка приветствий"
      ]
    },
    {
      "cell_type": "code",
      "execution_count": null,
      "metadata": {
        "id": "5cyO9YvimxgQ"
      },
      "outputs": [],
      "source": [
        "flag_repeat = False\n",
        "del_hello = input('Введите приветствие, которое нужно удалить из списка: ').lower()\n",
        "for i in range(len(list_hello)):\n",
        "  if del_hello == list_hello[i]:\n",
        "    flag_repeat = True\n",
        "    list_hello.pop(i)\n",
        "    print('Приветствие \"', del_hello, '\" удалено из списка приветствий', sep = '') #все шаги схожи со списком прощаний\n",
        "    break\n",
        "if flag_repeat == False:\n",
        "  print('Приветствие \"', del_hello, '\" не найдено в списке приветствий', sep = '')"
      ]
    },
    {
      "cell_type": "markdown",
      "metadata": {
        "id": "bpcRy8VYMiZU"
      },
      "source": [
        "Создаём словарь имён"
      ]
    },
    {
      "cell_type": "code",
      "execution_count": 6,
      "metadata": {
        "id": "UcNgnfL3U340"
      },
      "outputs": [],
      "source": [
        "list_names = []\n",
        "headers_names = {'user-agent': 'Mozilla/5.0 (Windows NT 10.0; Win64; x64) AppleWebKit/537.36 (KHTML, like Gecko) Chrome/104.0.0.0 Safari/537.36'} #извлекаю с помощью инструмента разрабочика\n",
        "for letter in ('абвгдежзиклмнопрстуфхцчшэюя'): #перебираю буквы, чтобы перейти на страницу с именами на них\n",
        "  letter_for_url = requests.utils.quote(letter) #преобразую букву для URL запроса\n",
        "  url_names = 'https://lexicography.online/onomastics/superanskaya/' + letter_for_url #добавляю зашифрованную букву к адресу\n",
        "  r = requests.get(url_names, headers = headers_names) #записываю в перемненную ответ на запрос\n",
        "  list_names += (re.findall('[(А-ЯЁа-яё)]+', r.text.splitlines()[25])) #в 25 строке сожержатся имена, но вперемешку со служебными символами, которые отбрасываю с помощью регулярных выражений"
      ]
    },
    {
      "cell_type": "markdown",
      "metadata": {
        "id": "1TNsaPQqOJ8T"
      },
      "source": [
        "Ручное добавление имени в список имён"
      ]
    },
    {
      "cell_type": "code",
      "execution_count": null,
      "metadata": {
        "id": "p7vEi1kZOM0-"
      },
      "outputs": [],
      "source": [
        "flag_repeat = False\n",
        "add_name = input('Введите имя, которое нужно добавить в список: ').title() #все шаги аналогичны изменению списка прощаний\n",
        "for i in range(len(list_names)):\n",
        "  if add_name == list_names[i]:\n",
        "    print('Имя \"', add_name, '\" уже есть в списке имён', sep = '')\n",
        "    flag_repeat = True\n",
        "    break\n",
        "if flag_repeat == False:\n",
        "  list_names.append(add_name)\n",
        "  print('Имя \"', add_name, '\" добавлено в список имён', sep = '')"
      ]
    },
    {
      "cell_type": "markdown",
      "metadata": {
        "id": "ULZU9_rSPmM0"
      },
      "source": [
        "Ручное удаление имени из списка имён"
      ]
    },
    {
      "cell_type": "code",
      "execution_count": null,
      "metadata": {
        "id": "qIHPsPHVPqen"
      },
      "outputs": [],
      "source": [
        "flag_repeat = False\n",
        "del_name = input('Введите имя, которое нужно удалить из имён: ').lower() #все шаги аналогичны изменению списка прощаний\n",
        "for i in range(len(list_names)):\n",
        "  if del_name == list_names[i]:\n",
        "    flag_repeat = True\n",
        "    list_names.pop(i)\n",
        "    print('Имя \"', del_name, '\" удалено из списка имён', sep = '')\n",
        "    break\n",
        "if flag_repeat == False:\n",
        "  print('Имя \"', del_name, '\" не найдено в списке имён', sep = '')"
      ]
    },
    {
      "cell_type": "markdown",
      "metadata": {
        "id": "RBDrq21KM6z8"
      },
      "source": [
        "Загружаем таблицу с диска в переменную"
      ]
    },
    {
      "cell_type": "code",
      "execution_count": 7,
      "metadata": {
        "id": "Ka3rnyNhIwQ8"
      },
      "outputs": [],
      "source": [
        "data_original = pd.read_csv('/content/drive/My Drive/Colab Notebooks/test_data.csv') #создаём датафрейм из csv файла на диске\n",
        "data = data_original.copy() #создаю копию, чтобы не изменить оригинальную таблицу"
      ]
    },
    {
      "cell_type": "markdown",
      "metadata": {
        "id": "vMaeFOZxMUO1"
      },
      "source": [
        "Ищем фразы, в которых было приветствие"
      ]
    },
    {
      "cell_type": "code",
      "execution_count": 8,
      "metadata": {
        "id": "Gp8v7CtcI2Lk"
      },
      "outputs": [],
      "source": [
        "data['status'] = '' #создаём столбец для наших пометок\n",
        "num_lines = 5 #устанавливаем количество строк с начала и конца диалога, в которых будем искать нужные нам сущности (дальше 5 строк реплик не встречались) для оптимизации по времени\n",
        "for dlg_id in range(data['dlg_id'].max() + 1): #перебираем номера диалогов (максимальное значение +1 так как range начинает с 0)\n",
        "  for line_n in range(num_lines):\n",
        "    for hello in list_hello:\n",
        "      buffer = data[(data['dlg_id'] == dlg_id) & (data['role'] == 'client')]['text'].iloc[line_n].lower() #ищем в пределах одного диалога и роли клиента (ошибка расшифровывающей \n",
        "      if hello in buffer: #при совпадении приветствия с элементом реплики                                 #системы), реплику приводим к строчнм буквам\n",
        "        data.loc[(data['text'] == buffer.capitalize()) & (data['dlg_id'] == dlg_id),'status'] = 'hello' #записываем в наш столбец метку для реплики с приветствием\n",
        "        break #если нашли в реплике приветствие, то переходим к следующей реплике"
      ]
    },
    {
      "cell_type": "markdown",
      "metadata": {
        "id": "djkERXdhPlkD"
      },
      "source": [
        "Ищем фразы, в которых было прощание"
      ]
    },
    {
      "cell_type": "code",
      "execution_count": 9,
      "metadata": {
        "id": "5NRIcATkO8Uc"
      },
      "outputs": [],
      "source": [
        "for dlg_id in range(data['dlg_id'].max() + 1):\n",
        "  for line_n in range(num_lines):\n",
        "    for bye in list_bye:\n",
        "      buffer = data[(data['dlg_id'] == dlg_id) & (data['role'] == 'client')]['text'].iloc[-line_n].lower() #всё по аналогии с предыдущим блоком\n",
        "      if bye in buffer:\n",
        "        data.loc[(data['text'] == buffer.capitalize()) & (data['dlg_id'] == dlg_id),'status'] = 'bye'\n",
        "        break"
      ]
    },
    {
      "cell_type": "markdown",
      "metadata": {
        "id": "uNM3qWIYMzW2"
      },
      "source": [
        "Ищем имена во фразах и устанавливаем заглавную букву для повышения узнаваемости Natasha (предустановленные алгоритмы не работали со строчными буквами). После этого ищем выделенные заглавной буквой имена с помощью Natasha"
      ]
    },
    {
      "cell_type": "code",
      "execution_count": 10,
      "metadata": {
        "id": "B8p_v9ejc0N5"
      },
      "outputs": [],
      "source": [
        "#Строчные буквы вызвали некоторые проблемы с распознаванием, почему и проишлось делать большую надстройку в виде списка имён, например. Методы title(), capitalize() и upper()\n",
        "#иногда улучшали распознаваемость, но результат был неудовлетворительный. Методом изысканий нашлось решение, но с перебором имён занимающее приличное время. Можно было бы \n",
        "#запрашивать имя менеджера вручную, но такое решение пришлось не по вкусу. Имеем то, что имеем на данный момент. В будущем решу лучше\n",
        "for dlg_id in range(data['dlg_id'].max() + 1):\n",
        "  for line_n in range(num_lines):\n",
        "    for name in list_names:\n",
        "      name = name.lower()\n",
        "      buffer = data[(data['dlg_id'] == dlg_id) & (data['role'] == 'client')]['text'].iloc[line_n].lower().split(' ')\n",
        "      for count in range(len(buffer)):\n",
        "        if buffer[count] == name:\n",
        "          if 'зовут' in ' '.join(buffer) or 'это' in ' '.join(buffer):\n",
        "            buffer[count] = name.capitalize()\n",
        "            doc = Doc(' '.join(buffer))\n",
        "            doc.segment(segmenter)\n",
        "            doc.tag_ner(ner_tagger)\n",
        "            for span in doc.spans:\n",
        "                span.normalize(morph_vocab)\n",
        "            for span in doc.spans:\n",
        "              if span.type == 'PER':\n",
        "                  span.extract_fact(names_extractor)\n",
        "                  #print(span.normal)\n",
        "                  data.loc[(data['text'] == ' '.join(buffer).lower().capitalize()) & (data['dlg_id'] == dlg_id),'status'] = 'name: ' + name.title() + ' '"
      ]
    },
    {
      "cell_type": "markdown",
      "metadata": {
        "id": "MvroLcI5Sgqh"
      },
      "source": [
        "Подготавливаем фразу и анализируем её на предмет названия организации с помощью всё той же Natasha"
      ]
    },
    {
      "cell_type": "code",
      "execution_count": 11,
      "metadata": {
        "id": "-VPe_djGDs04"
      },
      "outputs": [],
      "source": [
        "list_rel = ['amod', 'nmod', 'nsubj', 'nsubjpass', 'appos'] #серия экспериментов показала, что из этих частей речи чаще всего состоят названия организаций\n",
        "for dlg_id in range(data['dlg_id'].max() + 1):\n",
        "  for line_n in range(num_lines):\n",
        "    text = data[(data['dlg_id'] == dlg_id) & (data['role'] == 'client')]['text'].iloc[line_n]\n",
        "    list_org = []\n",
        "    doc1 = Doc(text)\n",
        "    doc1.segment(segmenter)\n",
        "    doc1.parse_syntax(syntax_parser)\n",
        "    for i in range(len(doc1.tokens)):\n",
        "      if 'компани' in doc1.tokens[i].text.lower(): #начиная со слова «компания» в разных склонениях начинаем записывать название организации\n",
        "        for j in range(i + 1, len(doc1.tokens)):\n",
        "          if 'называет' in doc1.tokens[j].text or 'именует' in doc1.tokens[j].text: #после слова «компания» может быть вставлено «называется», учтём такой вариант\n",
        "            continue\n",
        "          if doc1.tokens[j].rel in list_rel:\n",
        "            list_org.append(doc1.tokens[j].text)\n",
        "          else: \n",
        "            data.loc[data['text'] == text,'status'] += ('org: ' + ' '.join(list_org).title())\n",
        "            break\n",
        "        break"
      ]
    },
    {
      "cell_type": "markdown",
      "metadata": {
        "id": "Mr9NhCgOJjgq"
      },
      "source": [
        "Выводим удобно читаемые данные по результатам анализа расшифровок телефонных разговоров"
      ]
    },
    {
      "cell_type": "code",
      "execution_count": null,
      "metadata": {
        "colab": {
          "base_uri": "https://localhost:8080/"
        },
        "id": "g68GY9-CKX8y",
        "outputId": "3377247d-a7b8-4e32-c0df-d9673defc998"
      },
      "outputs": [
        {
          "name": "stdout",
          "output_type": "stream",
          "text": [
            "\n",
            "Менеджер диалога № 0 Ангелина.\n",
            "\n",
            "Представился(-лась) в репллике: Меня зовут ангелина компания диджитал бизнес звоним вам по поводу продления лицензии а мы с серым у вас скоро срок заканчивается\n",
            "\n",
            "Поздоровался(-лась) в реплике:\n",
            "Алло здравствуйте\n",
            "\n",
            "Попрощался(-лась) в реплике:\n",
            "Всего хорошего до свидания\n",
            "\n",
            "Требование поздороваться и попрощаться ВЫПОЛНЕНО\n",
            "\n",
            "Представил(-а) компанию как \"Диджитал Бизнес\".\n",
            "__________________________________\n",
            "\n",
            "Менеджер диалога № 1 Ангелина.\n",
            "\n",
            "Представился(-лась) в репллике: Меня зовут ангелина компания диджитал бизнес звоню вам по поводу продления а мы сели обратила внимание что у вас срок заканчивается\n",
            "\n",
            "Поздоровался(-лась) в реплике:\n",
            "Алло здравствуйте\n",
            "\n",
            "Попрощался(-лась) в реплике:\n",
            "Угу да вижу я эту почту хорошо тогда исправлю на эту будем ждать ответа всего хорошего\n",
            "До свидания\n",
            "\n",
            "Требование поздороваться и попрощаться ВЫПОЛНЕНО\n",
            "\n",
            "Представил(-а) компанию как \"Диджитал Бизнес\".\n",
            "__________________________________\n",
            "\n",
            "Менеджер диалога № 2 Ангелина.\n",
            "\n",
            "Представился(-лась) в репллике: Меня зовут ангелина компания диджитал бизнес звоню вам по поводу продления лицензии а мастера мы с вами сотрудничали по видео там\n",
            "\n",
            "Поздоровался(-лась) в реплике:\n",
            "Алло здравствуйте\n",
            "\n",
            "Требование поздороваться и попрощаться НЕ ВЫПОЛНЕНО: менеджер не попрощался(-лась)\n",
            "\n",
            "Представил(-а) компанию как \"Диджитал Бизнес\".\n",
            "__________________________________\n",
            "\n",
            "Менеджер диалога № 3 Максим.\n",
            "\n",
            "Представился(-лась) в репллике: Добрый меня максим зовут компания китобизнес удобно говорить\n",
            "\n",
            "Поздоровался(-лась) в реплике:\n",
            "Алло дмитрий добрый день\n",
            "\n",
            "Попрощался(-лась) в реплике:\n",
            "Угу все хорошо да понедельника тогда всего доброго\n",
            "\n",
            "Требование поздороваться и попрощаться ВЫПОЛНЕНО\n",
            "\n",
            "Представил(-а) компанию как \"Китобизнес\".\n",
            "__________________________________\n",
            "\n",
            "Менеджер диалога № 4 не представился(-лась).\n",
            "\n",
            "Попрощался(-лась) в реплике:\n",
            "Во вторник все ну с вами да тогда до вторника до свидания\n",
            "\n",
            "Требование поздороваться и попрощаться НЕ ВЫПОЛНЕНО: менеджер не поздоровался(-лась)\n",
            "\n",
            "Не представил(-а) компанию\n",
            "__________________________________\n",
            "\n",
            "Менеджер диалога № 5 Анастасия.\n",
            "\n",
            "Представился(-лась) в репллике: Да это анастасия\n",
            "\n",
            "Попрощался(-лась) в реплике:\n",
            "Ну до свидания хорошего вечера\n",
            "\n",
            "Требование поздороваться и попрощаться НЕ ВЫПОЛНЕНО: менеджер не поздоровался(-лась)\n",
            "\n",
            "Не представил(-а) компанию\n",
            "__________________________________\n"
          ]
        }
      ],
      "source": [
        "for dlg_id in range(data['dlg_id'].max() + 1):\n",
        "  data_1 = data[(data['dlg_id'] == dlg_id) & (data['status'] != '')]\n",
        "  for i in range(len(data_1.index)):\n",
        "    if 'name' in data_1.iloc[i, 4]:\n",
        "      print('\\nМенеджер диалога № ', dlg_id, ' ', data_1.iloc[i, 4].split(' ')[1], '.', sep = '')\n",
        "      print('\\nПредставился(-лась) в репллике: ', data_1.iloc[i, 3], sep = '')\n",
        "      break\n",
        "    elif i == len(data_1.index) - 1: \n",
        "      print('\\nМенеджер диалога № ', dlg_id, ' не представился(-лась).', sep = '')\n",
        "  \n",
        "  flag_hello = False\n",
        "  flag_bye = False\n",
        "  for j in range(len(data_1.index)): \n",
        "    if 'hello' in data_1.iloc[j, 4]:\n",
        "      if flag_hello == False:\n",
        "        print('\\nПоздоровался(-лась) в реплике:')\n",
        "      print(data_1.iloc[j, 3])\n",
        "      flag_hello = True\n",
        "    if 'bye' in data_1.iloc[j, 4]:\n",
        "      if flag_bye == False:\n",
        "        print('\\nПопрощался(-лась) в реплике:')\n",
        "      print(data_1.iloc[j, 3])\n",
        "      flag_bye = True\n",
        "    if flag_hello == True and flag_bye == True and j == len(data_1.index) - 1:\n",
        "      print('\\nТребование поздороваться и попрощаться ВЫПОЛНЕНО', sep = '')\n",
        "    elif flag_hello == True and flag_bye == False and j == len(data_1.index) - 1:\n",
        "      print('\\nТребование поздороваться и попрощаться НЕ ВЫПОЛНЕНО: менеджер не попрощался(-лась)', sep = '')\n",
        "    elif flag_hello == False and flag_bye == True and j == len(data_1.index) - 1:\n",
        "      print('\\nТребование поздороваться и попрощаться НЕ ВЫПОЛНЕНО: менеджер не поздоровался(-лась)', sep = '')\n",
        "    elif flag_hello == False and flag_bye == False and j == len(data_1.index) - 1:\n",
        "      print('\\nТребование поздороваться и попрощаться НЕ ВЫПОЛНЕНО: менеджер не поздоровался и не попрощался(-лась)', sep = '')\n",
        "  \n",
        "  for n in range(len(data_1.index)):\n",
        "    if 'org' in data_1.iloc[i, 4]:\n",
        "      print('\\nПредставил(-а) компанию как \"', ' '.join(data_1.iloc[i, 4].split(' ')[3:]), '\".', sep = '')\n",
        "      break\n",
        "    elif n == len(data_1.index) - 1: \n",
        "      print('\\nНе представил(-а) компанию', sep = '')\n",
        "  print('__________________________________')"
      ]
    }
  ],
  "metadata": {
    "colab": {
      "collapsed_sections": [],
      "provenance": [],
      "authorship_tag": "ABX9TyOQPrQiLAf6kscoI4aOMq1q",
      "include_colab_link": true
    },
    "kernelspec": {
      "display_name": "Python 3",
      "name": "python3"
    },
    "language_info": {
      "name": "python"
    }
  },
  "nbformat": 4,
  "nbformat_minor": 0
}