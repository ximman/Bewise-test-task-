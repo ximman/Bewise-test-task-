{
  "nbformat": 4,
  "nbformat_minor": 0,
  "metadata": {
    "colab": {
      "provenance": [],
      "collapsed_sections": [],
      "authorship_tag": "ABX9TyOzNF4Jr3POUCwnNF0NQkHT",
      "include_colab_link": true
    },
    "kernelspec": {
      "name": "python3",
      "display_name": "Python 3"
    },
    "language_info": {
      "name": "python"
    }
  },
  "cells": [
    {
      "cell_type": "markdown",
      "metadata": {
        "id": "view-in-github",
        "colab_type": "text"
      },
      "source": [
        "<a href=\"https://colab.research.google.com/github/ximman/Bewise-test-task-/blob/dev/Bewise_(test_task).ipynb\" target=\"_parent\"><img src=\"https://colab.research.google.com/assets/colab-badge.svg\" alt=\"Open In Colab\"/></a>"
      ]
    },
    {
      "cell_type": "code",
      "source": [
        "pip install natasha"
      ],
      "metadata": {
        "colab": {
          "base_uri": "https://localhost:8080/"
        },
        "id": "21xyRLr7uwrj",
        "outputId": "595bf43c-8763-4188-c72a-63902a2533ab"
      },
      "execution_count": 210,
      "outputs": [
        {
          "output_type": "stream",
          "name": "stdout",
          "text": [
            "Looking in indexes: https://pypi.org/simple, https://us-python.pkg.dev/colab-wheels/public/simple/\n",
            "Requirement already satisfied: natasha in /usr/local/lib/python3.7/dist-packages (1.4.0)\n",
            "Requirement already satisfied: yargy>=0.14.0 in /usr/local/lib/python3.7/dist-packages (from natasha) (0.15.0)\n",
            "Requirement already satisfied: slovnet>=0.3.0 in /usr/local/lib/python3.7/dist-packages (from natasha) (0.5.0)\n",
            "Requirement already satisfied: pymorphy2 in /usr/local/lib/python3.7/dist-packages (from natasha) (0.9.1)\n",
            "Requirement already satisfied: navec>=0.9.0 in /usr/local/lib/python3.7/dist-packages (from natasha) (0.10.0)\n",
            "Requirement already satisfied: ipymarkup>=0.8.0 in /usr/local/lib/python3.7/dist-packages (from natasha) (0.9.0)\n",
            "Requirement already satisfied: razdel>=0.5.0 in /usr/local/lib/python3.7/dist-packages (from natasha) (0.5.0)\n",
            "Requirement already satisfied: intervaltree>=3 in /usr/local/lib/python3.7/dist-packages (from ipymarkup>=0.8.0->natasha) (3.1.0)\n",
            "Requirement already satisfied: sortedcontainers<3.0,>=2.0 in /usr/local/lib/python3.7/dist-packages (from intervaltree>=3->ipymarkup>=0.8.0->natasha) (2.4.0)\n",
            "Requirement already satisfied: numpy in /usr/local/lib/python3.7/dist-packages (from navec>=0.9.0->natasha) (1.21.6)\n",
            "Requirement already satisfied: docopt>=0.6 in /usr/local/lib/python3.7/dist-packages (from pymorphy2->natasha) (0.6.2)\n",
            "Requirement already satisfied: dawg-python>=0.7.1 in /usr/local/lib/python3.7/dist-packages (from pymorphy2->natasha) (0.7.2)\n",
            "Requirement already satisfied: pymorphy2-dicts-ru<3.0,>=2.4 in /usr/local/lib/python3.7/dist-packages (from pymorphy2->natasha) (2.4.417127.4579844)\n"
          ]
        }
      ]
    },
    {
      "cell_type": "code",
      "execution_count": 211,
      "metadata": {
        "id": "dhlmfDOq6jfZ",
        "colab": {
          "base_uri": "https://localhost:8080/"
        },
        "outputId": "bd00fe85-f254-4aff-eec4-a8d8f295180d"
      },
      "outputs": [
        {
          "output_type": "stream",
          "name": "stdout",
          "text": [
            "Drive already mounted at /content/drive; to attempt to forcibly remount, call drive.mount(\"/content/drive\", force_remount=True).\n"
          ]
        }
      ],
      "source": [
        "import requests\n",
        "import pandas as pd\n",
        "import re\n",
        "from natasha import (\n",
        "    Segmenter,\n",
        "    MorphVocab,  \n",
        "    PER,\n",
        "    NamesExtractor,\n",
        "    NewsNERTagger,   \n",
        "    NewsEmbedding,\n",
        "    NewsSyntaxParser,\n",
        "    Doc\n",
        ")\n",
        "emb = NewsEmbedding()\n",
        "segmenter = Segmenter()\n",
        "morph_vocab = MorphVocab()\n",
        "ner_tagger = NewsNERTagger(emb)\n",
        "names_extractor = NamesExtractor(morph_vocab)\n",
        "syntax_parser = NewsSyntaxParser(emb)\n",
        "\n",
        "from google.colab import drive\n",
        "drive.mount('/content/drive')"
      ]
    },
    {
      "cell_type": "markdown",
      "source": [
        "Создаём список прощаний"
      ],
      "metadata": {
        "id": "_C3Gz36hMa0U"
      }
    },
    {
      "cell_type": "code",
      "source": [
        "#word = requests.utils.quote(input('Введите слово: ').lower())\n",
        "word_for_url = requests.utils.quote('до свидания')\n",
        "url = 'http://www.synonymizer.ru/index.php?sword=' + word_for_url\n",
        "headers = {'User-Agent': 'Mozilla/5.0 (Windows NT 10.0; Win64; x64) AppleWebKit/537.36 (KHTML, like Gecko) Chrome/104.0.0.0 Safari/537.36'}\n",
        "r = requests.get(url, headers = headers)\n",
        "r = r.text.splitlines()\n",
        "list_1 = []\n",
        "for i in range(len(r)):\n",
        "  if 'База синонимов' in r[i]:\n",
        "    while r[i] != '</div>':\n",
        "      list_1.append(r[i+1])\n",
        "      i += 1\n",
        "s = []\n",
        "for l in range(len(list_1)):\n",
        "  list_1[l] = list_1[l].replace('<p>', '')\n",
        "  list_1[l] = list_1[l].replace('</p>', '')\n",
        "  list_1[l] = list_1[l].replace('</div>', '')\n",
        "  if list_1[l] == '': \n",
        "    s.append(l)\n",
        "for j in reversed(s):\n",
        "  list_1.pop(j)\n",
        "string = ''\n",
        "for k in range(len(list_1)):\n",
        "  if k > 0:\n",
        "    string += ', '+ list_1[k]\n",
        "  else: string += list_1[k]\n",
        "list_2 = string.split(', ')\n",
        "for i in reversed(range(len(list_2))):\n",
        "  if '(' in list_2[i] or ')' in list_2[i]:\n",
        "    list_2.pop(i)\n",
        "list_bye = list(set(list_2))\n",
        "\n",
        "print(list_bye)"
      ],
      "metadata": {
        "colab": {
          "base_uri": "https://localhost:8080/"
        },
        "id": "9uOyCJkB6qg5",
        "outputId": "34eccb6a-6569-44d7-a845-809974d34be9"
      },
      "execution_count": 212,
      "outputs": [
        {
          "output_type": "stream",
          "name": "stdout",
          "text": [
            "['прощайте', 'до встречи', 'до скорого свидания', 'удачно', 'бывай', 'спать', 'бай', 'чао', 'привет', 'покедова', 'доброго', 'будьте', 'благословенно', 'прощевай', 'семь футов под килем', 'удачливо', 'всего лучшего', 'всего', 'всего наилучшего', 'извинения', 'с успехом', 'всех благ', 'солнечно', 'прости-прощай', 'успешно', 'в добрый час', 'не поминайте лихом', 'до свиданья', 'бай-бай', 'салют', 'всего доброго', 'покеда', 'желаю удачи', 'пардон', 'пока', 'с богом', 'до скорого', 'прощай', 'адью', 'спатиньки', 'не поминай лихом', 'счастливо оставаться', 'благополучно', 'всего хорошего', 'ни пуха ни пера', 'счастливо', 'до скорой встречи', 'празднично оставаться', 'чава', 'прощевайте', 'будь', 'баиньки', 'до свидания', 'простить']\n"
          ]
        }
      ]
    },
    {
      "cell_type": "markdown",
      "source": [
        "Ручной ввод прощания в список прощаний"
      ],
      "metadata": {
        "id": "lI8HeWeBdCy0"
      }
    },
    {
      "cell_type": "code",
      "source": [
        "flag_repeat = False\n",
        "add_bye = input('Введите прощание, которое нужно добавить в список: ').lower()\n",
        "for i in range(len(list_bye)):\n",
        "  if add_bye == list_bye[i]:\n",
        "    print('Прощание \"', add_bye, '\" уже есть в списке прощаний', sep = '')\n",
        "    flag_repeat = True\n",
        "    break\n",
        "if flag_repeat == False:\n",
        "  list_bye.append(add_bye)\n",
        "  print('Прощание \"', add_bye, '\" добавлено в список прощаний', sep = '')"
      ],
      "metadata": {
        "colab": {
          "base_uri": "https://localhost:8080/"
        },
        "id": "kiBVdXC7dc6Y",
        "outputId": "770bc575-8705-4852-a93e-4e10893963ae"
      },
      "execution_count": 213,
      "outputs": [
        {
          "output_type": "stream",
          "name": "stdout",
          "text": [
            "Введите прощание, которое нужно добавить в список: бай\n",
            "Прощание \"бай\" уже есть в списке прощаний\n"
          ]
        }
      ]
    },
    {
      "cell_type": "markdown",
      "source": [
        "Ручное удаление прощания из списка прощаний"
      ],
      "metadata": {
        "id": "LJHy6LqzgPxa"
      }
    },
    {
      "cell_type": "code",
      "source": [
        "flag_repeat = False\n",
        "del_bye = input('Введите прощание, которое нужно удалить из списка: ').lower()\n",
        "for i in range(len(list_bye)):\n",
        "  if del_bye == list_bye[i]:\n",
        "    flag_repeat = True\n",
        "    list_bye.pop(i)\n",
        "    print('Прощание \"', del_bye, '\" удалено из списка прощаний', sep = '')\n",
        "    break\n",
        "if flag_repeat == False:\n",
        "  print('Прощание \"', del_bye, '\" не найдено в списке прощаний', sep = '')"
      ],
      "metadata": {
        "colab": {
          "base_uri": "https://localhost:8080/"
        },
        "id": "2QX-zGj4gTWF",
        "outputId": "76141b21-e34a-45da-ecba-8766fb456c76"
      },
      "execution_count": 214,
      "outputs": [
        {
          "output_type": "stream",
          "name": "stdout",
          "text": [
            "Введите прощание, которое нужно удалить из списка: ыЦЦ\n",
            "Прощание \"ыцц\" не найдено в списке прощаний\n"
          ]
        }
      ]
    },
    {
      "cell_type": "markdown",
      "source": [
        "Создаём список приветствий"
      ],
      "metadata": {
        "id": "wUPlLLnMMe9W"
      }
    },
    {
      "cell_type": "code",
      "source": [
        "#word = requests.utils.quote(input('Введите слово: ').lower())\n",
        "word_for_url = requests.utils.quote('доброе утро')\n",
        "url = 'http://www.synonymizer.ru/index.php?sword=' + word_for_url\n",
        "headers = {'User-Agent': 'Mozilla/5.0 (Windows NT 10.0; Win64; x64) AppleWebKit/537.36 (KHTML, like Gecko) Chrome/104.0.0.0 Safari/537.36'}\n",
        "r = requests.get(url, headers = headers)\n",
        "r = r.text.splitlines()\n",
        "list_1 = []\n",
        "for i in range(len(r)):\n",
        "  if 'База синонимов' in r[i]:\n",
        "    while r[i] != '</div>':\n",
        "      list_1.append(r[i+1])\n",
        "      i += 1\n",
        "s = []\n",
        "for l in range(len(list_1)):\n",
        "  list_1[l] = list_1[l].replace('<p>', '')\n",
        "  list_1[l] = list_1[l].replace('</p>', '')\n",
        "  list_1[l] = list_1[l].replace('</div>', '')\n",
        "  if list_1[l] == '': \n",
        "    s.append(l)\n",
        "for j in reversed(s):\n",
        "  list_1.pop(j)\n",
        "string = ''\n",
        "for k in range(len(list_1)):\n",
        "  if k > 0:\n",
        "    string += ', '+ list_1[k]\n",
        "  else: string += list_1[k]\n",
        "list_2 = string.split(', ')\n",
        "for i in reversed(range(len(list_2))):\n",
        "  if '(' in list_2[i] or ')' in list_2[i]:\n",
        "    list_2.pop(i)\n",
        "list_hello = list(set(list_2))"
      ],
      "metadata": {
        "id": "CdFSN0xLlnD_"
      },
      "execution_count": null,
      "outputs": []
    },
    {
      "cell_type": "markdown",
      "source": [
        "Ручное добавление приветствия в список приветствий"
      ],
      "metadata": {
        "id": "IUKh2RhkmK0r"
      }
    },
    {
      "cell_type": "code",
      "source": [
        "flag_repeat = False\n",
        "add_hello = input('Введите приветствие, которое нужно добавить в список: ').lower()\n",
        "for i in range(len(list_hello)):\n",
        "  if add_hello == list_hello[i]:\n",
        "    print('Приветствие \"', add_hello, '\" уже есть в списке приветствий', sep = '')\n",
        "    flag_repeat = True\n",
        "    break\n",
        "if flag_repeat == False:\n",
        "  list_hello.append(add_hello)\n",
        "  print('Приветствие \"', add_hello, '\" добавлено в список приветствий', sep = '')"
      ],
      "metadata": {
        "id": "Em2xEzwomRhn"
      },
      "execution_count": null,
      "outputs": []
    },
    {
      "cell_type": "markdown",
      "source": [
        "Ручное удаление приветствия из списка приветствий"
      ],
      "metadata": {
        "id": "rb0g0g2XmsPm"
      }
    },
    {
      "cell_type": "code",
      "source": [
        "flag_repeat = False\n",
        "del_hello = input('Введите приветствие, которое нужно удалить из списка: ').lower()\n",
        "for i in range(len(list_hello)):\n",
        "  if del_hello == list_hello[i]:\n",
        "    flag_repeat = True\n",
        "    list_hello.pop(i)\n",
        "    print('Приветствие \"', del_hello, '\" удалено из списка приветствий', sep = '')\n",
        "    break\n",
        "if flag_repeat == False:\n",
        "  print('Приветствие \"', del_hello, '\" не найдено в списке приветствий', sep = '')"
      ],
      "metadata": {
        "id": "5cyO9YvimxgQ"
      },
      "execution_count": null,
      "outputs": []
    },
    {
      "cell_type": "markdown",
      "source": [
        "Создаём словарь имён"
      ],
      "metadata": {
        "id": "bpcRy8VYMiZU"
      }
    },
    {
      "cell_type": "code",
      "source": [
        "list_names = []\n",
        "headers_names = {'user-agent': 'Mozilla/5.0 (Windows NT 10.0; Win64; x64) AppleWebKit/537.36 (KHTML, like Gecko) Chrome/104.0.0.0 Safari/537.36'}\n",
        "for letter in ('абвгдежзиклмнопрстуфхцчшэюя'):\n",
        "  letter_for_url = requests.utils.quote(letter)\n",
        "  url_names = 'https://lexicography.online/onomastics/superanskaya/' + letter_for_url\n",
        "  r = requests.get(url_names, headers = headers_names)\n",
        "  list_names += (re.findall('[(А-ЯЁа-яё)]+', r.text.splitlines()[25]))"
      ],
      "metadata": {
        "id": "UcNgnfL3U340"
      },
      "execution_count": null,
      "outputs": []
    },
    {
      "cell_type": "markdown",
      "source": [
        "Ручное добавление имени в список имён"
      ],
      "metadata": {
        "id": "1TNsaPQqOJ8T"
      }
    },
    {
      "cell_type": "code",
      "source": [
        "flag_repeat = False\n",
        "add_name = input('Введите имя, которое нужно добавить в список: ').title()\n",
        "for i in range(len(list_names)):\n",
        "  if add_name == list_names[i]:\n",
        "    print('Имя \"', add_name, '\" уже есть в списке имён', sep = '')\n",
        "    flag_repeat = True\n",
        "    break\n",
        "if flag_repeat == False:\n",
        "  list_names.append(add_name)\n",
        "  print('Имя \"', add_name, '\" добавлено в список имён', sep = '')"
      ],
      "metadata": {
        "colab": {
          "base_uri": "https://localhost:8080/"
        },
        "id": "p7vEi1kZOM0-",
        "outputId": "abf268a9-70bd-4e50-a307-195fbf0b3587"
      },
      "execution_count": 219,
      "outputs": [
        {
          "output_type": "stream",
          "name": "stdout",
          "text": [
            "Введите имя, которое нужно добавить в список: вадим\n",
            "Имя \"Вадим\" уже есть в списке имён\n"
          ]
        }
      ]
    },
    {
      "cell_type": "markdown",
      "source": [
        "Ручное удаление имени из списка имён"
      ],
      "metadata": {
        "id": "ULZU9_rSPmM0"
      }
    },
    {
      "cell_type": "code",
      "source": [
        "flag_repeat = False\n",
        "del_name = input('Введите имя, которое нужно удалить из имён: ').lower()\n",
        "for i in range(len(list_names)):\n",
        "  if del_name == list_names[i]:\n",
        "    flag_repeat = True\n",
        "    list_names.pop(i)\n",
        "    print('Имя \"', del_name, '\" удалено из списка имён', sep = '')\n",
        "    break\n",
        "if flag_repeat == False:\n",
        "  print('Имя \"', del_name, '\" не найдено в списке имён', sep = '')"
      ],
      "metadata": {
        "id": "qIHPsPHVPqen",
        "colab": {
          "base_uri": "https://localhost:8080/"
        },
        "outputId": "20816d62-1333-452a-e2da-4b189ae14f61"
      },
      "execution_count": 220,
      "outputs": [
        {
          "output_type": "stream",
          "name": "stdout",
          "text": [
            "Введите имя, которое нужно удалить из имён: пачослпмдриж\n",
            "Имя \"пачослпмдриж\" не найдено в списке имён\n"
          ]
        }
      ]
    },
    {
      "cell_type": "markdown",
      "source": [
        "Загружаем таблицу с диска в переменную"
      ],
      "metadata": {
        "id": "RBDrq21KM6z8"
      }
    },
    {
      "cell_type": "code",
      "source": [
        "data_original = pd.read_csv('/content/drive/My Drive/Colab Notebooks/test_data.csv')\n",
        "data = data_original.copy()\n",
        "data"
      ],
      "metadata": {
        "id": "Ka3rnyNhIwQ8",
        "colab": {
          "base_uri": "https://localhost:8080/",
          "height": 423
        },
        "outputId": "e4da8c87-819a-45d7-8995-bb7d4bb6b8db"
      },
      "execution_count": 221,
      "outputs": [
        {
          "output_type": "execute_result",
          "data": {
            "text/plain": [
              "     dlg_id  line_n     role  \\\n",
              "0         0       0  manager   \n",
              "1         0       1   client   \n",
              "2         0       2  manager   \n",
              "3         0       3   client   \n",
              "4         0       4  manager   \n",
              "..      ...     ...      ...   \n",
              "475       5     138   client   \n",
              "476       5     139   client   \n",
              "477       5     140  manager   \n",
              "478       5     141  manager   \n",
              "479       5     142   client   \n",
              "\n",
              "                                                  text  \n",
              "0                                                 Алло  \n",
              "1                                    Алло здравствуйте  \n",
              "2                                          Добрый день  \n",
              "3    Меня зовут ангелина компания диджитал бизнес з...  \n",
              "4                                                  Ага  \n",
              "..                                                 ...  \n",
              "475  По поводу виджетов и с ними уже обсудите конкр...  \n",
              "476  Все я вам высылаю счет и с вами на связи если ...  \n",
              "477                                    Спасибо спасибо  \n",
              "478     Да да тогда созвонимся ага спасибо вам давайте  \n",
              "479                     Ну до свидания хорошего вечера  \n",
              "\n",
              "[480 rows x 4 columns]"
            ],
            "text/html": [
              "\n",
              "  <div id=\"df-da32cd59-4404-4f70-909a-306bb2670101\">\n",
              "    <div class=\"colab-df-container\">\n",
              "      <div>\n",
              "<style scoped>\n",
              "    .dataframe tbody tr th:only-of-type {\n",
              "        vertical-align: middle;\n",
              "    }\n",
              "\n",
              "    .dataframe tbody tr th {\n",
              "        vertical-align: top;\n",
              "    }\n",
              "\n",
              "    .dataframe thead th {\n",
              "        text-align: right;\n",
              "    }\n",
              "</style>\n",
              "<table border=\"1\" class=\"dataframe\">\n",
              "  <thead>\n",
              "    <tr style=\"text-align: right;\">\n",
              "      <th></th>\n",
              "      <th>dlg_id</th>\n",
              "      <th>line_n</th>\n",
              "      <th>role</th>\n",
              "      <th>text</th>\n",
              "    </tr>\n",
              "  </thead>\n",
              "  <tbody>\n",
              "    <tr>\n",
              "      <th>0</th>\n",
              "      <td>0</td>\n",
              "      <td>0</td>\n",
              "      <td>manager</td>\n",
              "      <td>Алло</td>\n",
              "    </tr>\n",
              "    <tr>\n",
              "      <th>1</th>\n",
              "      <td>0</td>\n",
              "      <td>1</td>\n",
              "      <td>client</td>\n",
              "      <td>Алло здравствуйте</td>\n",
              "    </tr>\n",
              "    <tr>\n",
              "      <th>2</th>\n",
              "      <td>0</td>\n",
              "      <td>2</td>\n",
              "      <td>manager</td>\n",
              "      <td>Добрый день</td>\n",
              "    </tr>\n",
              "    <tr>\n",
              "      <th>3</th>\n",
              "      <td>0</td>\n",
              "      <td>3</td>\n",
              "      <td>client</td>\n",
              "      <td>Меня зовут ангелина компания диджитал бизнес з...</td>\n",
              "    </tr>\n",
              "    <tr>\n",
              "      <th>4</th>\n",
              "      <td>0</td>\n",
              "      <td>4</td>\n",
              "      <td>manager</td>\n",
              "      <td>Ага</td>\n",
              "    </tr>\n",
              "    <tr>\n",
              "      <th>...</th>\n",
              "      <td>...</td>\n",
              "      <td>...</td>\n",
              "      <td>...</td>\n",
              "      <td>...</td>\n",
              "    </tr>\n",
              "    <tr>\n",
              "      <th>475</th>\n",
              "      <td>5</td>\n",
              "      <td>138</td>\n",
              "      <td>client</td>\n",
              "      <td>По поводу виджетов и с ними уже обсудите конкр...</td>\n",
              "    </tr>\n",
              "    <tr>\n",
              "      <th>476</th>\n",
              "      <td>5</td>\n",
              "      <td>139</td>\n",
              "      <td>client</td>\n",
              "      <td>Все я вам высылаю счет и с вами на связи если ...</td>\n",
              "    </tr>\n",
              "    <tr>\n",
              "      <th>477</th>\n",
              "      <td>5</td>\n",
              "      <td>140</td>\n",
              "      <td>manager</td>\n",
              "      <td>Спасибо спасибо</td>\n",
              "    </tr>\n",
              "    <tr>\n",
              "      <th>478</th>\n",
              "      <td>5</td>\n",
              "      <td>141</td>\n",
              "      <td>manager</td>\n",
              "      <td>Да да тогда созвонимся ага спасибо вам давайте</td>\n",
              "    </tr>\n",
              "    <tr>\n",
              "      <th>479</th>\n",
              "      <td>5</td>\n",
              "      <td>142</td>\n",
              "      <td>client</td>\n",
              "      <td>Ну до свидания хорошего вечера</td>\n",
              "    </tr>\n",
              "  </tbody>\n",
              "</table>\n",
              "<p>480 rows × 4 columns</p>\n",
              "</div>\n",
              "      <button class=\"colab-df-convert\" onclick=\"convertToInteractive('df-da32cd59-4404-4f70-909a-306bb2670101')\"\n",
              "              title=\"Convert this dataframe to an interactive table.\"\n",
              "              style=\"display:none;\">\n",
              "        \n",
              "  <svg xmlns=\"http://www.w3.org/2000/svg\" height=\"24px\"viewBox=\"0 0 24 24\"\n",
              "       width=\"24px\">\n",
              "    <path d=\"M0 0h24v24H0V0z\" fill=\"none\"/>\n",
              "    <path d=\"M18.56 5.44l.94 2.06.94-2.06 2.06-.94-2.06-.94-.94-2.06-.94 2.06-2.06.94zm-11 1L8.5 8.5l.94-2.06 2.06-.94-2.06-.94L8.5 2.5l-.94 2.06-2.06.94zm10 10l.94 2.06.94-2.06 2.06-.94-2.06-.94-.94-2.06-.94 2.06-2.06.94z\"/><path d=\"M17.41 7.96l-1.37-1.37c-.4-.4-.92-.59-1.43-.59-.52 0-1.04.2-1.43.59L10.3 9.45l-7.72 7.72c-.78.78-.78 2.05 0 2.83L4 21.41c.39.39.9.59 1.41.59.51 0 1.02-.2 1.41-.59l7.78-7.78 2.81-2.81c.8-.78.8-2.07 0-2.86zM5.41 20L4 18.59l7.72-7.72 1.47 1.35L5.41 20z\"/>\n",
              "  </svg>\n",
              "      </button>\n",
              "      \n",
              "  <style>\n",
              "    .colab-df-container {\n",
              "      display:flex;\n",
              "      flex-wrap:wrap;\n",
              "      gap: 12px;\n",
              "    }\n",
              "\n",
              "    .colab-df-convert {\n",
              "      background-color: #E8F0FE;\n",
              "      border: none;\n",
              "      border-radius: 50%;\n",
              "      cursor: pointer;\n",
              "      display: none;\n",
              "      fill: #1967D2;\n",
              "      height: 32px;\n",
              "      padding: 0 0 0 0;\n",
              "      width: 32px;\n",
              "    }\n",
              "\n",
              "    .colab-df-convert:hover {\n",
              "      background-color: #E2EBFA;\n",
              "      box-shadow: 0px 1px 2px rgba(60, 64, 67, 0.3), 0px 1px 3px 1px rgba(60, 64, 67, 0.15);\n",
              "      fill: #174EA6;\n",
              "    }\n",
              "\n",
              "    [theme=dark] .colab-df-convert {\n",
              "      background-color: #3B4455;\n",
              "      fill: #D2E3FC;\n",
              "    }\n",
              "\n",
              "    [theme=dark] .colab-df-convert:hover {\n",
              "      background-color: #434B5C;\n",
              "      box-shadow: 0px 1px 3px 1px rgba(0, 0, 0, 0.15);\n",
              "      filter: drop-shadow(0px 1px 2px rgba(0, 0, 0, 0.3));\n",
              "      fill: #FFFFFF;\n",
              "    }\n",
              "  </style>\n",
              "\n",
              "      <script>\n",
              "        const buttonEl =\n",
              "          document.querySelector('#df-da32cd59-4404-4f70-909a-306bb2670101 button.colab-df-convert');\n",
              "        buttonEl.style.display =\n",
              "          google.colab.kernel.accessAllowed ? 'block' : 'none';\n",
              "\n",
              "        async function convertToInteractive(key) {\n",
              "          const element = document.querySelector('#df-da32cd59-4404-4f70-909a-306bb2670101');\n",
              "          const dataTable =\n",
              "            await google.colab.kernel.invokeFunction('convertToInteractive',\n",
              "                                                     [key], {});\n",
              "          if (!dataTable) return;\n",
              "\n",
              "          const docLinkHtml = 'Like what you see? Visit the ' +\n",
              "            '<a target=\"_blank\" href=https://colab.research.google.com/notebooks/data_table.ipynb>data table notebook</a>'\n",
              "            + ' to learn more about interactive tables.';\n",
              "          element.innerHTML = '';\n",
              "          dataTable['output_type'] = 'display_data';\n",
              "          await google.colab.output.renderOutput(dataTable, element);\n",
              "          const docLink = document.createElement('div');\n",
              "          docLink.innerHTML = docLinkHtml;\n",
              "          element.appendChild(docLink);\n",
              "        }\n",
              "      </script>\n",
              "    </div>\n",
              "  </div>\n",
              "  "
            ]
          },
          "metadata": {},
          "execution_count": 221
        }
      ]
    },
    {
      "cell_type": "markdown",
      "source": [
        "Ищем фразы, в которых было приветствие"
      ],
      "metadata": {
        "id": "vMaeFOZxMUO1"
      }
    },
    {
      "cell_type": "code",
      "source": [
        "data['status'] = ''\n",
        "for dlg_id in range(data['dlg_id'].max() + 1):\n",
        "  for line_n in range(5):\n",
        "    for hello in list_hello:\n",
        "      buffer = data[(data['dlg_id'] == dlg_id) & (data['role'] == 'client')]['text'].iloc[line_n].lower()\n",
        "      if hello in buffer:\n",
        "        data.loc[(data['text'] == buffer.capitalize()) & (data['dlg_id'] == dlg_id),'status'] = 'hello'\n",
        "        break"
      ],
      "metadata": {
        "id": "Gp8v7CtcI2Lk"
      },
      "execution_count": 252,
      "outputs": []
    },
    {
      "cell_type": "markdown",
      "source": [
        "Ищем фразы, в которых было прощание"
      ],
      "metadata": {
        "id": "djkERXdhPlkD"
      }
    },
    {
      "cell_type": "code",
      "source": [
        "for dlg_id in range(data['dlg_id'].max() + 1):\n",
        "  for line_n in range(5):\n",
        "    for bye in list_bye:\n",
        "      buffer = data[(data['dlg_id'] == dlg_id) & (data['role'] == 'client')]['text'].iloc[-line_n].lower()\n",
        "      if bye in buffer:\n",
        "        data.loc[(data['text'] == buffer.capitalize()) & (data['dlg_id'] == dlg_id),'status'] = 'bye'\n",
        "        break"
      ],
      "metadata": {
        "id": "5NRIcATkO8Uc"
      },
      "execution_count": 258,
      "outputs": []
    },
    {
      "cell_type": "markdown",
      "source": [
        "Ищем имена во фразах и устанвливаем заглавную букву для повыешния узнаваемости Natasha (предустановленные алгоритмы не работали со строчными буквами). После этого ищем выделенные заглавной буквой имена с помощью Natasha"
      ],
      "metadata": {
        "id": "uNM3qWIYMzW2"
      }
    },
    {
      "cell_type": "code",
      "source": [
        "for dlg_id in range(data['dlg_id'].max() + 1):\n",
        "  for line_n in range(5):\n",
        "    for name in list_names:\n",
        "      name = name.lower()\n",
        "      buffer = data[(data['dlg_id'] == dlg_id) & (data['role'] == 'client')]['text'].iloc[line_n].lower().split(' ')\n",
        "      for count in range(len(buffer)):\n",
        "        if buffer[count] == name:\n",
        "          if 'зовут' in ' '.join(buffer) or 'это' in ' '.join(buffer):\n",
        "            buffer[count] = name.capitalize()\n",
        "            doc = Doc(' '.join(buffer))\n",
        "            doc.segment(segmenter)\n",
        "            doc.tag_ner(ner_tagger)\n",
        "            for span in doc.spans:\n",
        "                span.normalize(morph_vocab)\n",
        "            for span in doc.spans:\n",
        "              if span.type == 'PER':\n",
        "                  span.extract_fact(names_extractor)\n",
        "                  print(span.normal)\n",
        "                  data.loc[(data['text'] == ' '.join(buffer).lower().capitalize()) & (data['dlg_id'] == dlg_id),'status'] = 'name: ' + name.title() + ' '"
      ],
      "metadata": {
        "id": "B8p_v9ejc0N5",
        "colab": {
          "base_uri": "https://localhost:8080/"
        },
        "outputId": "c311cd08-13c8-488f-fb21-f579d811416e"
      },
      "execution_count": 238,
      "outputs": [
        {
          "output_type": "stream",
          "name": "stdout",
          "text": [
            "Ангелина\n",
            "Ангелина\n",
            "Ангелина\n",
            "Максим\n",
            "Анастасия\n"
          ]
        }
      ]
    },
    {
      "cell_type": "markdown",
      "source": [
        "Подготавливаем фразу и анализируем её на предмет названия организации с помощью всё той же Natasha"
      ],
      "metadata": {
        "id": "MvroLcI5Sgqh"
      }
    },
    {
      "cell_type": "code",
      "source": [
        "list_rel = ['amod', 'nmod', 'nsubj', 'nsubjpass', 'appos'] #серия экспериментов показала, что из этих частей речи чаще всего состоят названия организаций\n",
        "for dlg_id in range(data['dlg_id'].max() + 1):\n",
        "  for line_n in range(5):\n",
        "    text = data[(data['dlg_id'] == dlg_id) & (data['role'] == 'client')]['text'].iloc[line_n]\n",
        "    list_org = []\n",
        "    doc1 = Doc(text)\n",
        "    doc1.segment(segmenter)\n",
        "    doc1.parse_syntax(syntax_parser)\n",
        "    for i in range(len(doc1.tokens)):\n",
        "      if 'компани' in doc1.tokens[i].text.lower(): #начиная со слова «компания» начинаем записывать название организации\n",
        "        for j in range(i + 1, len(doc1.tokens)):\n",
        "          if doc1.tokens[j].rel in list_rel:\n",
        "            list_org.append(doc1.tokens[j].text)\n",
        "          else: \n",
        "            data.loc[data['text'] == text,'status'] += ('org: ' + ' '.join(list_org).title())\n",
        "            break\n",
        "        break\n",
        "  \n"
      ],
      "metadata": {
        "id": "-VPe_djGDs04"
      },
      "execution_count": 239,
      "outputs": []
    }
  ]
}