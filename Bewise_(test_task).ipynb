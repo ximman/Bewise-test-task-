{
  "nbformat": 4,
  "nbformat_minor": 0,
  "metadata": {
    "colab": {
      "provenance": [],
      "collapsed_sections": [],
      "authorship_tag": "ABX9TyOzNF4Jr3POUCwnNF0NQkHT",
      "include_colab_link": true
    },
    "kernelspec": {
      "name": "python3",
      "display_name": "Python 3"
    },
    "language_info": {
      "name": "python"
    }
  },
  "cells": [
    {
      "cell_type": "markdown",
      "metadata": {
        "id": "view-in-github",
        "colab_type": "text"
      },
      "source": [
        "<a href=\"https://colab.research.google.com/github/ximman/Bewise-test-task-/blob/dev/Bewise_(test_task).ipynb\" target=\"_parent\"><img src=\"https://colab.research.google.com/assets/colab-badge.svg\" alt=\"Open In Colab\"/></a>"
      ]
    },
    {
      "cell_type": "code",
      "source": [
        "pip install natasha"
      ],
      "metadata": {
        "id": "21xyRLr7uwrj"
      },
      "execution_count": null,
      "outputs": []
    },
    {
      "cell_type": "code",
      "execution_count": null,
      "metadata": {
        "id": "dhlmfDOq6jfZ"
      },
      "outputs": [],
      "source": [
        "import requests\n",
        "import pandas as pd\n",
        "import re\n",
        "from natasha import (\n",
        "    Segmenter,\n",
        "    MorphVocab,  \n",
        "    PER,\n",
        "    NamesExtractor,\n",
        "    NewsNERTagger,   \n",
        "    NewsEmbedding,\n",
        "    NewsSyntaxParser,\n",
        "    Doc\n",
        ")\n",
        "emb = NewsEmbedding()\n",
        "segmenter = Segmenter()\n",
        "morph_vocab = MorphVocab()\n",
        "ner_tagger = NewsNERTagger(emb)\n",
        "names_extractor = NamesExtractor(morph_vocab)\n",
        "syntax_parser = NewsSyntaxParser(emb)\n",
        "\n",
        "from google.colab import drive\n",
        "drive.mount('/content/drive')"
      ]
    },
    {
      "cell_type": "markdown",
      "source": [
        "Создаём список прощаний"
      ],
      "metadata": {
        "id": "_C3Gz36hMa0U"
      }
    },
    {
      "cell_type": "code",
      "source": [
        "#word = requests.utils.quote(input('Введите слово: ').lower())\n",
        "word_for_url = requests.utils.quote('до свидания')\n",
        "url = 'http://www.synonymizer.ru/index.php?sword=' + word_for_url\n",
        "headers = {'User-Agent': 'Mozilla/5.0 (Windows NT 10.0; Win64; x64) AppleWebKit/537.36 (KHTML, like Gecko) Chrome/104.0.0.0 Safari/537.36'}\n",
        "r = requests.get(url, headers = headers)\n",
        "r = r.text.splitlines()\n",
        "list_1 = []\n",
        "for i in range(len(r)):\n",
        "  if 'База синонимов' in r[i]:\n",
        "    while r[i] != '</div>':\n",
        "      list_1.append(r[i+1])\n",
        "      i += 1\n",
        "s = []\n",
        "for l in range(len(list_1)):\n",
        "  list_1[l] = list_1[l].replace('<p>', '')\n",
        "  list_1[l] = list_1[l].replace('</p>', '')\n",
        "  list_1[l] = list_1[l].replace('</div>', '')\n",
        "  if list_1[l] == '': \n",
        "    s.append(l)\n",
        "for j in reversed(s):\n",
        "  list_1.pop(j)\n",
        "string = ''\n",
        "for k in range(len(list_1)):\n",
        "  if k > 0:\n",
        "    string += ', '+ list_1[k]\n",
        "  else: string += list_1[k]\n",
        "list_2 = string.split(', ')\n",
        "for i in reversed(range(len(list_2))):\n",
        "  if '(' in list_2[i] or ')' in list_2[i]:\n",
        "    list_2.pop(i)\n",
        "list_bye = list(set(list_2))\n",
        "\n",
        "print(list_bye)"
      ],
      "metadata": {
        "id": "9uOyCJkB6qg5"
      },
      "execution_count": null,
      "outputs": []
    },
    {
      "cell_type": "markdown",
      "source": [
        "Ручной ввод прощания в список прощаний"
      ],
      "metadata": {
        "id": "lI8HeWeBdCy0"
      }
    },
    {
      "cell_type": "code",
      "source": [
        "flag_repeat = False\n",
        "add_bye = input('Введите прощание, которое нужно добавить в список: ').lower()\n",
        "for i in range(len(list_bye)):\n",
        "  if add_bye == list_bye[i]:\n",
        "    print('Прощание \"', add_bye, '\" уже есть в списке прощаний', sep = '')\n",
        "    flag_repeat = True\n",
        "    break\n",
        "if flag_repeat == False:\n",
        "  list_bye.append(add_bye)\n",
        "  print('Прощание \"', add_bye, '\" добавлено в список прощаний', sep = '')"
      ],
      "metadata": {
        "id": "kiBVdXC7dc6Y"
      },
      "execution_count": null,
      "outputs": []
    },
    {
      "cell_type": "markdown",
      "source": [
        "Ручное удаление прощания из списка прощаний"
      ],
      "metadata": {
        "id": "LJHy6LqzgPxa"
      }
    },
    {
      "cell_type": "code",
      "source": [
        "flag_repeat = False\n",
        "del_bye = input('Введите прощание, которое нужно удалить из списка: ').lower()\n",
        "for i in range(len(list_bye)):\n",
        "  if del_bye == list_bye[i]:\n",
        "    flag_repeat = True\n",
        "    list_bye.pop(i)\n",
        "    print('Прощание \"', del_bye, '\" удалено из списка прощаний', sep = '')\n",
        "    break\n",
        "if flag_repeat == False:\n",
        "  print('Прощание \"', del_bye, '\" не найдено в списке прощаний', sep = '')"
      ],
      "metadata": {
        "id": "2QX-zGj4gTWF"
      },
      "execution_count": null,
      "outputs": []
    },
    {
      "cell_type": "markdown",
      "source": [
        "Создаём список приветствий"
      ],
      "metadata": {
        "id": "wUPlLLnMMe9W"
      }
    },
    {
      "cell_type": "code",
      "source": [
        "#word = requests.utils.quote(input('Введите слово: ').lower())\n",
        "word_for_url = requests.utils.quote('доброе утро')\n",
        "url = 'http://www.synonymizer.ru/index.php?sword=' + word_for_url\n",
        "headers = {'User-Agent': 'Mozilla/5.0 (Windows NT 10.0; Win64; x64) AppleWebKit/537.36 (KHTML, like Gecko) Chrome/104.0.0.0 Safari/537.36'}\n",
        "r = requests.get(url, headers = headers)\n",
        "r = r.text.splitlines()\n",
        "list_1 = []\n",
        "for i in range(len(r)):\n",
        "  if 'База синонимов' in r[i]:\n",
        "    while r[i] != '</div>':\n",
        "      list_1.append(r[i+1])\n",
        "      i += 1\n",
        "s = []\n",
        "for l in range(len(list_1)):\n",
        "  list_1[l] = list_1[l].replace('<p>', '')\n",
        "  list_1[l] = list_1[l].replace('</p>', '')\n",
        "  list_1[l] = list_1[l].replace('</div>', '')\n",
        "  if list_1[l] == '': \n",
        "    s.append(l)\n",
        "for j in reversed(s):\n",
        "  list_1.pop(j)\n",
        "string = ''\n",
        "for k in range(len(list_1)):\n",
        "  if k > 0:\n",
        "    string += ', '+ list_1[k]\n",
        "  else: string += list_1[k]\n",
        "list_2 = string.split(', ')\n",
        "for i in reversed(range(len(list_2))):\n",
        "  if '(' in list_2[i] or ')' in list_2[i]:\n",
        "    list_2.pop(i)\n",
        "list_hello = list(set(list_2))"
      ],
      "metadata": {
        "id": "CdFSN0xLlnD_"
      },
      "execution_count": null,
      "outputs": []
    },
    {
      "cell_type": "markdown",
      "source": [
        "Ручное добавление приветствия в список приветствий"
      ],
      "metadata": {
        "id": "IUKh2RhkmK0r"
      }
    },
    {
      "cell_type": "code",
      "source": [
        "flag_repeat = False\n",
        "add_hello = input('Введите приветствие, которое нужно добавить в список: ').lower()\n",
        "for i in range(len(list_hello)):\n",
        "  if add_hello == list_hello[i]:\n",
        "    print('Приветствие \"', add_hello, '\" уже есть в списке приветствий', sep = '')\n",
        "    flag_repeat = True\n",
        "    break\n",
        "if flag_repeat == False:\n",
        "  list_hello.append(add_hello)\n",
        "  print('Приветствие \"', add_hello, '\" добавлено в список приветствий', sep = '')"
      ],
      "metadata": {
        "id": "Em2xEzwomRhn"
      },
      "execution_count": null,
      "outputs": []
    },
    {
      "cell_type": "markdown",
      "source": [
        "Ручное удаление приветствия из списка приветствий"
      ],
      "metadata": {
        "id": "rb0g0g2XmsPm"
      }
    },
    {
      "cell_type": "code",
      "source": [
        "flag_repeat = False\n",
        "del_hello = input('Введите приветствие, которое нужно удалить из списка: ').lower()\n",
        "for i in range(len(list_hello)):\n",
        "  if del_hello == list_hello[i]:\n",
        "    flag_repeat = True\n",
        "    list_hello.pop(i)\n",
        "    print('Приветствие \"', del_hello, '\" удалено из списка приветствий', sep = '')\n",
        "    break\n",
        "if flag_repeat == False:\n",
        "  print('Приветствие \"', del_hello, '\" не найдено в списке приветствий', sep = '')"
      ],
      "metadata": {
        "id": "5cyO9YvimxgQ"
      },
      "execution_count": null,
      "outputs": []
    },
    {
      "cell_type": "markdown",
      "source": [
        "Создаём словарь имён"
      ],
      "metadata": {
        "id": "bpcRy8VYMiZU"
      }
    },
    {
      "cell_type": "code",
      "source": [
        "list_names = []\n",
        "headers_names = {'user-agent': 'Mozilla/5.0 (Windows NT 10.0; Win64; x64) AppleWebKit/537.36 (KHTML, like Gecko) Chrome/104.0.0.0 Safari/537.36'}\n",
        "for letter in ('абвгдежзиклмнопрстуфхцчшэюя'):\n",
        "  letter_for_url = requests.utils.quote(letter)\n",
        "  url_names = 'https://lexicography.online/onomastics/superanskaya/' + letter_for_url\n",
        "  r = requests.get(url_names, headers = headers_names)\n",
        "  list_names += (re.findall('[(А-ЯЁа-яё)]+', r.text.splitlines()[25]))"
      ],
      "metadata": {
        "id": "UcNgnfL3U340"
      },
      "execution_count": null,
      "outputs": []
    },
    {
      "cell_type": "markdown",
      "source": [
        "Ручное добавление имени в список имён"
      ],
      "metadata": {
        "id": "1TNsaPQqOJ8T"
      }
    },
    {
      "cell_type": "code",
      "source": [
        "flag_repeat = False\n",
        "add_name = input('Введите имя, которое нужно добавить в список: ').title()\n",
        "for i in range(len(list_names)):\n",
        "  if add_name == list_names[i]:\n",
        "    print('Имя \"', add_name, '\" уже есть в списке имён', sep = '')\n",
        "    flag_repeat = True\n",
        "    break\n",
        "if flag_repeat == False:\n",
        "  list_names.append(add_name)\n",
        "  print('Имя \"', add_name, '\" добавлено в список имён', sep = '')"
      ],
      "metadata": {
        "id": "p7vEi1kZOM0-"
      },
      "execution_count": null,
      "outputs": []
    },
    {
      "cell_type": "markdown",
      "source": [
        "Ручное удаление имени из списка имён"
      ],
      "metadata": {
        "id": "ULZU9_rSPmM0"
      }
    },
    {
      "cell_type": "code",
      "source": [
        "flag_repeat = False\n",
        "del_name = input('Введите имя, которое нужно удалить из имён: ').lower()\n",
        "for i in range(len(list_names)):\n",
        "  if del_name == list_names[i]:\n",
        "    flag_repeat = True\n",
        "    list_names.pop(i)\n",
        "    print('Имя \"', del_name, '\" удалено из списка имён', sep = '')\n",
        "    break\n",
        "if flag_repeat == False:\n",
        "  print('Имя \"', del_name, '\" не найдено в списке имён', sep = '')"
      ],
      "metadata": {
        "id": "qIHPsPHVPqen"
      },
      "execution_count": null,
      "outputs": []
    },
    {
      "cell_type": "markdown",
      "source": [
        "Загружаем таблицу с диска в переменную"
      ],
      "metadata": {
        "id": "RBDrq21KM6z8"
      }
    },
    {
      "cell_type": "code",
      "source": [
        "data_original = pd.read_csv('/content/drive/My Drive/Colab Notebooks/test_data.csv')\n",
        "data = data_original.copy()\n",
        "data"
      ],
      "metadata": {
        "id": "Ka3rnyNhIwQ8"
      },
      "execution_count": null,
      "outputs": []
    },
    {
      "cell_type": "markdown",
      "source": [
        "Ищем фразы, в которых было приветствие"
      ],
      "metadata": {
        "id": "vMaeFOZxMUO1"
      }
    },
    {
      "cell_type": "code",
      "source": [
        "data['status'] = ''\n",
        "for dlg_id in range(data['dlg_id'].max() + 1):\n",
        "  for line_n in range(5):\n",
        "    for hello in list_hello:\n",
        "      buffer = data[(data['dlg_id'] == dlg_id) & (data['role'] == 'client')]['text'].iloc[line_n].lower()\n",
        "      if hello in buffer:\n",
        "        data.loc[(data['text'] == buffer.capitalize()) & (data['dlg_id'] == dlg_id),'status'] = 'hello'\n",
        "        break"
      ],
      "metadata": {
        "id": "Gp8v7CtcI2Lk"
      },
      "execution_count": 252,
      "outputs": []
    },
    {
      "cell_type": "markdown",
      "source": [
        "Ищем фразы, в которых было прощание"
      ],
      "metadata": {
        "id": "djkERXdhPlkD"
      }
    },
    {
      "cell_type": "code",
      "source": [
        "for dlg_id in range(data['dlg_id'].max() + 1):\n",
        "  for line_n in range(5):\n",
        "    for bye in list_bye:\n",
        "      buffer = data[(data['dlg_id'] == dlg_id) & (data['role'] == 'client')]['text'].iloc[-line_n].lower()\n",
        "      if bye in buffer:\n",
        "        data.loc[(data['text'] == buffer.capitalize()) & (data['dlg_id'] == dlg_id),'status'] = 'bye'\n",
        "        break"
      ],
      "metadata": {
        "id": "5NRIcATkO8Uc"
      },
      "execution_count": 258,
      "outputs": []
    },
    {
      "cell_type": "markdown",
      "source": [
        "Ищем имена во фразах и устанвливаем заглавную букву для повыешния узнаваемости Natasha (предустановленные алгоритмы не работали со строчными буквами). После этого ищем выделенные заглавной буквой имена с помощью Natasha"
      ],
      "metadata": {
        "id": "uNM3qWIYMzW2"
      }
    },
    {
      "cell_type": "code",
      "source": [
        "for dlg_id in range(data['dlg_id'].max() + 1):\n",
        "  for line_n in range(5):\n",
        "    for name in list_names:\n",
        "      name = name.lower()\n",
        "      buffer = data[(data['dlg_id'] == dlg_id) & (data['role'] == 'client')]['text'].iloc[line_n].lower().split(' ')\n",
        "      for count in range(len(buffer)):\n",
        "        if buffer[count] == name:\n",
        "          if 'зовут' in ' '.join(buffer) or 'это' in ' '.join(buffer):\n",
        "            buffer[count] = name.capitalize()\n",
        "            doc = Doc(' '.join(buffer))\n",
        "            doc.segment(segmenter)\n",
        "            doc.tag_ner(ner_tagger)\n",
        "            for span in doc.spans:\n",
        "                span.normalize(morph_vocab)\n",
        "            for span in doc.spans:\n",
        "              if span.type == 'PER':\n",
        "                  span.extract_fact(names_extractor)\n",
        "                  print(span.normal)\n",
        "                  data.loc[(data['text'] == ' '.join(buffer).lower().capitalize()) & (data['dlg_id'] == dlg_id),'status'] = 'name: ' + name.title() + ' '"
      ],
      "metadata": {
        "id": "B8p_v9ejc0N5"
      },
      "execution_count": null,
      "outputs": []
    },
    {
      "cell_type": "markdown",
      "source": [
        "Подготавливаем фразу и анализируем её на предмет названия организации с помощью всё той же Natasha"
      ],
      "metadata": {
        "id": "MvroLcI5Sgqh"
      }
    },
    {
      "cell_type": "code",
      "source": [
        "list_rel = ['amod', 'nmod', 'nsubj', 'nsubjpass', 'appos'] #серия экспериментов показала, что из этих частей речи чаще всего состоят названия организаций\n",
        "for dlg_id in range(data['dlg_id'].max() + 1):\n",
        "  for line_n in range(5):\n",
        "    text = data[(data['dlg_id'] == dlg_id) & (data['role'] == 'client')]['text'].iloc[line_n]\n",
        "    list_org = []\n",
        "    doc1 = Doc(text)\n",
        "    doc1.segment(segmenter)\n",
        "    doc1.parse_syntax(syntax_parser)\n",
        "    for i in range(len(doc1.tokens)):\n",
        "      if 'компани' in doc1.tokens[i].text.lower(): #начиная со слова «компания» начинаем записывать название организации\n",
        "        for j in range(i + 1, len(doc1.tokens)):\n",
        "          if doc1.tokens[j].rel in list_rel:\n",
        "            list_org.append(doc1.tokens[j].text)\n",
        "          else: \n",
        "            data.loc[data['text'] == text,'status'] += ('org: ' + ' '.join(list_org).title())\n",
        "            break\n",
        "        break\n",
        "  \n"
      ],
      "metadata": {
        "id": "-VPe_djGDs04"
      },
      "execution_count": 239,
      "outputs": []
    }
  ]
}