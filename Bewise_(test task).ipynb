{
  "nbformat": 4,
  "nbformat_minor": 0,
  "metadata": {
    "colab": {
      "provenance": [],
      "collapsed_sections": [],
      "name": "Bewise (пробы пера).ipynb",
      "authorship_tag": "ABX9TyODHyq7Bo+/Ge/CqKgvIPm1",
      "include_colab_link": true
    },
    "kernelspec": {
      "name": "python3",
      "display_name": "Python 3"
    },
    "language_info": {
      "name": "python"
    }
  },
  "cells": [
    {
      "cell_type": "markdown",
      "metadata": {
        "id": "view-in-github",
        "colab_type": "text"
      },
      "source": [
        "<a href=\"https://colab.research.google.com/github/ximman/Bewise-test-task-/blob/dev/Bewise_(test%20task).ipynb\" target=\"_parent\"><img src=\"https://colab.research.google.com/assets/colab-badge.svg\" alt=\"Open In Colab\"/></a>"
      ]
    },
    {
      "cell_type": "code",
      "source": [
        "pip install natasha"
      ],
      "metadata": {
        "id": "21xyRLr7uwrj",
        "colab": {
          "base_uri": "https://localhost:8080/"
        },
        "outputId": "50359687-5fbc-4a4d-d6c3-1bf21456ee89"
      },
      "execution_count": 2,
      "outputs": [
        {
          "output_type": "stream",
          "name": "stdout",
          "text": [
            "Looking in indexes: https://pypi.org/simple, https://us-python.pkg.dev/colab-wheels/public/simple/\n",
            "Collecting natasha\n",
            "  Downloading natasha-1.4.0-py3-none-any.whl (34.4 MB)\n",
            "\u001b[K     |████████████████████████████████| 34.4 MB 113 kB/s \n",
            "\u001b[?25hCollecting razdel>=0.5.0\n",
            "  Downloading razdel-0.5.0-py3-none-any.whl (21 kB)\n",
            "Collecting ipymarkup>=0.8.0\n",
            "  Downloading ipymarkup-0.9.0-py3-none-any.whl (14 kB)\n",
            "Collecting navec>=0.9.0\n",
            "  Downloading navec-0.10.0-py3-none-any.whl (23 kB)\n",
            "Collecting pymorphy2\n",
            "  Downloading pymorphy2-0.9.1-py3-none-any.whl (55 kB)\n",
            "\u001b[K     |████████████████████████████████| 55 kB 3.3 MB/s \n",
            "\u001b[?25hCollecting slovnet>=0.3.0\n",
            "  Downloading slovnet-0.5.0-py3-none-any.whl (49 kB)\n",
            "\u001b[K     |████████████████████████████████| 49 kB 6.2 MB/s \n",
            "\u001b[?25hCollecting yargy>=0.14.0\n",
            "  Downloading yargy-0.15.0-py3-none-any.whl (41 kB)\n",
            "\u001b[K     |████████████████████████████████| 41 kB 125 kB/s \n",
            "\u001b[?25hCollecting intervaltree>=3\n",
            "  Downloading intervaltree-3.1.0.tar.gz (32 kB)\n",
            "Requirement already satisfied: sortedcontainers<3.0,>=2.0 in /usr/local/lib/python3.7/dist-packages (from intervaltree>=3->ipymarkup>=0.8.0->natasha) (2.4.0)\n",
            "Requirement already satisfied: numpy in /usr/local/lib/python3.7/dist-packages (from navec>=0.9.0->natasha) (1.21.6)\n",
            "Collecting dawg-python>=0.7.1\n",
            "  Downloading DAWG_Python-0.7.2-py2.py3-none-any.whl (11 kB)\n",
            "Collecting pymorphy2-dicts-ru<3.0,>=2.4\n",
            "  Downloading pymorphy2_dicts_ru-2.4.417127.4579844-py2.py3-none-any.whl (8.2 MB)\n",
            "\u001b[K     |████████████████████████████████| 8.2 MB 18.3 MB/s \n",
            "\u001b[?25hCollecting docopt>=0.6\n",
            "  Downloading docopt-0.6.2.tar.gz (25 kB)\n",
            "Building wheels for collected packages: intervaltree, docopt\n",
            "  Building wheel for intervaltree (setup.py) ... \u001b[?25l\u001b[?25hdone\n",
            "  Created wheel for intervaltree: filename=intervaltree-3.1.0-py2.py3-none-any.whl size=26119 sha256=b133f3a50b00cbb22a41af9860241e99a86a16d8e14696e95a2f9bdfb29d02b9\n",
            "  Stored in directory: /root/.cache/pip/wheels/16/85/bd/1001cbb46dcfb71c2001cd7401c6fb250392f22a81ce3722f7\n",
            "  Building wheel for docopt (setup.py) ... \u001b[?25l\u001b[?25hdone\n",
            "  Created wheel for docopt: filename=docopt-0.6.2-py2.py3-none-any.whl size=13723 sha256=2b63abafeaa488493506ab58ac9081987309e71f7ef9129c8a20c54b14c45924\n",
            "  Stored in directory: /root/.cache/pip/wheels/72/b0/3f/1d95f96ff986c7dfffe46ce2be4062f38ebd04b506c77c81b9\n",
            "Successfully built intervaltree docopt\n",
            "Installing collected packages: pymorphy2-dicts-ru, docopt, dawg-python, razdel, pymorphy2, navec, intervaltree, yargy, slovnet, ipymarkup, natasha\n",
            "  Attempting uninstall: intervaltree\n",
            "    Found existing installation: intervaltree 2.1.0\n",
            "    Uninstalling intervaltree-2.1.0:\n",
            "      Successfully uninstalled intervaltree-2.1.0\n",
            "Successfully installed dawg-python-0.7.2 docopt-0.6.2 intervaltree-3.1.0 ipymarkup-0.9.0 natasha-1.4.0 navec-0.10.0 pymorphy2-0.9.1 pymorphy2-dicts-ru-2.4.417127.4579844 razdel-0.5.0 slovnet-0.5.0 yargy-0.15.0\n"
          ]
        }
      ]
    },
    {
      "cell_type": "code",
      "execution_count": 3,
      "metadata": {
        "id": "dhlmfDOq6jfZ",
        "colab": {
          "base_uri": "https://localhost:8080/"
        },
        "outputId": "82fba1db-a2a7-42dc-dd65-1ef2e099fb8d"
      },
      "outputs": [
        {
          "output_type": "stream",
          "name": "stdout",
          "text": [
            "Mounted at /content/drive\n"
          ]
        }
      ],
      "source": [
        "import requests\n",
        "import pandas as pd\n",
        "import re\n",
        "from natasha import (\n",
        "    Segmenter,\n",
        "    MorphVocab,  \n",
        "    PER,\n",
        "    NamesExtractor,\n",
        "    NewsNERTagger,   \n",
        "    NewsEmbedding,\n",
        "    NewsSyntaxParser,\n",
        "    Doc\n",
        ")\n",
        "emb = NewsEmbedding()\n",
        "segmenter = Segmenter()\n",
        "morph_vocab = MorphVocab()\n",
        "ner_tagger = NewsNERTagger(emb)\n",
        "names_extractor = NamesExtractor(morph_vocab)\n",
        "syntax_parser = NewsSyntaxParser(emb)\n",
        "\n",
        "from google.colab import drive\n",
        "drive.mount('/content/drive')"
      ]
    },
    {
      "cell_type": "markdown",
      "source": [
        "Создаём список прощаний"
      ],
      "metadata": {
        "id": "_C3Gz36hMa0U"
      }
    },
    {
      "cell_type": "code",
      "source": [
        "#word = requests.utils.quote(input('Введите слово: ').lower())\n",
        "word_for_url = requests.utils.quote('до свидания')\n",
        "url = 'http://www.synonymizer.ru/index.php?sword=' + word_for_url\n",
        "headers = {'User-Agent': 'Mozilla/5.0 (Windows NT 10.0; Win64; x64) AppleWebKit/537.36 (KHTML, like Gecko) Chrome/104.0.0.0 Safari/537.36'}\n",
        "r = requests.get(url, headers = headers)\n",
        "r = r.text.splitlines()\n",
        "list_1 = []\n",
        "for i in range(len(r)):\n",
        "  if 'База синонимов' in r[i]:\n",
        "    while r[i] != '</div>':\n",
        "      list_1.append(r[i+1])\n",
        "      i += 1\n",
        "s = []\n",
        "for l in range(len(list_1)):\n",
        "  list_1[l] = list_1[l].replace('<p>', '')\n",
        "  list_1[l] = list_1[l].replace('</p>', '')\n",
        "  list_1[l] = list_1[l].replace('</div>', '')\n",
        "  if list_1[l] == '': \n",
        "    s.append(l)\n",
        "for j in reversed(s):\n",
        "  list_1.pop(j)\n",
        "string = ''\n",
        "for k in range(len(list_1)):\n",
        "  if k > 0:\n",
        "    string += ', '+ list_1[k]\n",
        "  else: string += list_1[k]\n",
        "list_2 = string.split(', ')\n",
        "for i in reversed(range(len(list_2))):\n",
        "  if '(' in list_2[i] or ')' in list_2[i]:\n",
        "    list_2.pop(i)\n",
        "list_bye = list(set(list_2))\n",
        "\n",
        "print(list_bye)"
      ],
      "metadata": {
        "id": "9uOyCJkB6qg5",
        "colab": {
          "base_uri": "https://localhost:8080/"
        },
        "outputId": "8b7b3752-ccef-4fc6-c395-b7baf3644c3d"
      },
      "execution_count": 4,
      "outputs": [
        {
          "output_type": "stream",
          "name": "stdout",
          "text": [
            "['всего', 'адью', 'желаю удачи', 'успешно', 'счастливо оставаться', 'до скорого', 'бай', 'будь', 'всего наилучшего', 'простить', 'привет', 'не поминай лихом', 'бывай', 'доброго', 'с богом', 'до свидания', 'прощевай', 'не поминайте лихом', 'будьте', 'до скорой встречи', 'покедова', 'празднично оставаться', 'прощай', 'чао', 'ни пуха ни пера', 'спать', 'баиньки', 'спатиньки', 'чава', 'бай-бай', 'до встречи', 'всего хорошего', 'до свиданья', 'прости-прощай', 'прощевайте', 'извинения', 'солнечно', 'покеда', 'с успехом', 'удачно', 'удачливо', 'счастливо', 'всех благ', 'до скорого свидания', 'семь футов под килем', 'салют', 'пока', 'прощайте', 'в добрый час', 'благословенно', 'всего лучшего', 'всего доброго', 'пардон', 'благополучно']\n"
          ]
        }
      ]
    },
    {
      "cell_type": "markdown",
      "source": [
        "Ручной ввод прощания в список прощаний"
      ],
      "metadata": {
        "id": "lI8HeWeBdCy0"
      }
    },
    {
      "cell_type": "code",
      "source": [
        "flag_repeat = False\n",
        "add_bye = input('Введите прощание, которое нужно добавить в список: ').lower()\n",
        "for i in range(len(list_bye)):\n",
        "  if add_bye == list_bye[i]:\n",
        "    print('Прощание \"', add_bye, '\" уже есть в списке прощаний', sep = '')\n",
        "    flag_repeat = True\n",
        "    break\n",
        "if flag_repeat == False:\n",
        "  list_bye.append(add_bye)\n",
        "  print('Прощание \"', add_bye, '\" добавлено в список прощаний', sep = '')"
      ],
      "metadata": {
        "id": "kiBVdXC7dc6Y"
      },
      "execution_count": null,
      "outputs": []
    },
    {
      "cell_type": "markdown",
      "source": [
        "Ручное удаление прощания из списка прощаний"
      ],
      "metadata": {
        "id": "LJHy6LqzgPxa"
      }
    },
    {
      "cell_type": "code",
      "source": [
        "flag_repeat = False\n",
        "del_bye = input('Введите прощание, которое нужно удалить из списка: ').lower()\n",
        "for i in range(len(list_bye)):\n",
        "  if del_bye == list_bye[i]:\n",
        "    flag_repeat = True\n",
        "    list_bye.pop(i)\n",
        "    print('Прощание \"', del_bye, '\" удалено из списка прощаний', sep = '')\n",
        "    break\n",
        "if flag_repeat == False:\n",
        "  print('Прощание \"', del_bye, '\" не найдено в списке прощаний', sep = '')"
      ],
      "metadata": {
        "id": "2QX-zGj4gTWF"
      },
      "execution_count": null,
      "outputs": []
    },
    {
      "cell_type": "markdown",
      "source": [
        "Создаём список приветствий"
      ],
      "metadata": {
        "id": "wUPlLLnMMe9W"
      }
    },
    {
      "cell_type": "code",
      "source": [
        "#word = requests.utils.quote(input('Введите слово: ').lower())\n",
        "word_for_url = requests.utils.quote('доброе утро')\n",
        "url = 'http://www.synonymizer.ru/index.php?sword=' + word_for_url\n",
        "headers = {'User-Agent': 'Mozilla/5.0 (Windows NT 10.0; Win64; x64) AppleWebKit/537.36 (KHTML, like Gecko) Chrome/104.0.0.0 Safari/537.36'}\n",
        "r = requests.get(url, headers = headers)\n",
        "r = r.text.splitlines()\n",
        "list_1 = []\n",
        "for i in range(len(r)):\n",
        "  if 'База синонимов' in r[i]:\n",
        "    while r[i] != '</div>':\n",
        "      list_1.append(r[i+1])\n",
        "      i += 1\n",
        "s = []\n",
        "for l in range(len(list_1)):\n",
        "  list_1[l] = list_1[l].replace('<p>', '')\n",
        "  list_1[l] = list_1[l].replace('</p>', '')\n",
        "  list_1[l] = list_1[l].replace('</div>', '')\n",
        "  if list_1[l] == '': \n",
        "    s.append(l)\n",
        "for j in reversed(s):\n",
        "  list_1.pop(j)\n",
        "string = ''\n",
        "for k in range(len(list_1)):\n",
        "  if k > 0:\n",
        "    string += ', '+ list_1[k]\n",
        "  else: string += list_1[k]\n",
        "list_2 = string.split(', ')\n",
        "for i in reversed(range(len(list_2))):\n",
        "  if '(' in list_2[i] or ')' in list_2[i]:\n",
        "    list_2.pop(i)\n",
        "list_hello = list(set(list_2))"
      ],
      "metadata": {
        "id": "CdFSN0xLlnD_"
      },
      "execution_count": 5,
      "outputs": []
    },
    {
      "cell_type": "markdown",
      "source": [
        "Ручное добавление приветствия в список приветствий"
      ],
      "metadata": {
        "id": "IUKh2RhkmK0r"
      }
    },
    {
      "cell_type": "code",
      "source": [
        "flag_repeat = False\n",
        "add_hello = input('Введите приветствие, которое нужно добавить в список: ').lower()\n",
        "for i in range(len(list_hello)):\n",
        "  if add_hello == list_hello[i]:\n",
        "    print('Приветствие \"', add_hello, '\" уже есть в списке приветствий', sep = '')\n",
        "    flag_repeat = True\n",
        "    break\n",
        "if flag_repeat == False:\n",
        "  list_hello.append(add_hello)\n",
        "  print('Приветствие \"', add_hello, '\" добавлено в список приветствий', sep = '')"
      ],
      "metadata": {
        "id": "Em2xEzwomRhn"
      },
      "execution_count": null,
      "outputs": []
    },
    {
      "cell_type": "markdown",
      "source": [
        "Ручное удаление приветствия из списка приветствий"
      ],
      "metadata": {
        "id": "rb0g0g2XmsPm"
      }
    },
    {
      "cell_type": "code",
      "source": [
        "flag_repeat = False\n",
        "del_hello = input('Введите приветствие, которое нужно удалить из списка: ').lower()\n",
        "for i in range(len(list_hello)):\n",
        "  if del_hello == list_hello[i]:\n",
        "    flag_repeat = True\n",
        "    list_hello.pop(i)\n",
        "    print('Приветствие \"', del_hello, '\" удалено из списка приветствий', sep = '')\n",
        "    break\n",
        "if flag_repeat == False:\n",
        "  print('Приветствие \"', del_hello, '\" не найдено в списке приветствий', sep = '')"
      ],
      "metadata": {
        "id": "5cyO9YvimxgQ"
      },
      "execution_count": null,
      "outputs": []
    },
    {
      "cell_type": "markdown",
      "source": [
        "Создаём словарь имён"
      ],
      "metadata": {
        "id": "bpcRy8VYMiZU"
      }
    },
    {
      "cell_type": "code",
      "source": [
        "list_names = []\n",
        "headers_names = {'user-agent': 'Mozilla/5.0 (Windows NT 10.0; Win64; x64) AppleWebKit/537.36 (KHTML, like Gecko) Chrome/104.0.0.0 Safari/537.36'}\n",
        "for letter in ('абвгдежзиклмнопрстуфхцчшэюя'):\n",
        "  letter_for_url = requests.utils.quote(letter)\n",
        "  url_names = 'https://lexicography.online/onomastics/superanskaya/' + letter_for_url\n",
        "  r = requests.get(url_names, headers = headers_names)\n",
        "  list_names += (re.findall('[(А-ЯЁа-яё)]+', r.text.splitlines()[25]))"
      ],
      "metadata": {
        "id": "UcNgnfL3U340"
      },
      "execution_count": 6,
      "outputs": []
    },
    {
      "cell_type": "markdown",
      "source": [
        "Ручное добавление имени в список имён"
      ],
      "metadata": {
        "id": "1TNsaPQqOJ8T"
      }
    },
    {
      "cell_type": "code",
      "source": [
        "flag_repeat = False\n",
        "add_name = input('Введите имя, которое нужно добавить в список: ').title()\n",
        "for i in range(len(list_names)):\n",
        "  if add_name == list_names[i]:\n",
        "    print('Имя \"', add_name, '\" уже есть в списке имён', sep = '')\n",
        "    flag_repeat = True\n",
        "    break\n",
        "if flag_repeat == False:\n",
        "  list_names.append(add_name)\n",
        "  print('Имя \"', add_name, '\" добавлено в список имён', sep = '')"
      ],
      "metadata": {
        "id": "p7vEi1kZOM0-"
      },
      "execution_count": null,
      "outputs": []
    },
    {
      "cell_type": "markdown",
      "source": [
        "Ручное удаление имени из списка имён"
      ],
      "metadata": {
        "id": "ULZU9_rSPmM0"
      }
    },
    {
      "cell_type": "code",
      "source": [
        "flag_repeat = False\n",
        "del_name = input('Введите имя, которое нужно удалить из имён: ').lower()\n",
        "for i in range(len(list_names)):\n",
        "  if del_name == list_names[i]:\n",
        "    flag_repeat = True\n",
        "    list_names.pop(i)\n",
        "    print('Имя \"', del_name, '\" удалено из списка имён', sep = '')\n",
        "    break\n",
        "if flag_repeat == False:\n",
        "  print('Имя \"', del_name, '\" не найдено в списке имён', sep = '')"
      ],
      "metadata": {
        "id": "qIHPsPHVPqen"
      },
      "execution_count": null,
      "outputs": []
    },
    {
      "cell_type": "markdown",
      "source": [
        "Загружаем таблицу с диска в переменную"
      ],
      "metadata": {
        "id": "RBDrq21KM6z8"
      }
    },
    {
      "cell_type": "code",
      "source": [
        "data_original = pd.read_csv('/content/drive/My Drive/Colab Notebooks/test_data.csv')\n",
        "data = data_original.copy()\n",
        "data"
      ],
      "metadata": {
        "id": "Ka3rnyNhIwQ8",
        "colab": {
          "base_uri": "https://localhost:8080/",
          "height": 424
        },
        "outputId": "ead7b7ea-6387-43b2-8a55-5ae466d840fe"
      },
      "execution_count": 7,
      "outputs": [
        {
          "output_type": "execute_result",
          "data": {
            "text/plain": [
              "     dlg_id  line_n     role  \\\n",
              "0         0       0  manager   \n",
              "1         0       1   client   \n",
              "2         0       2  manager   \n",
              "3         0       3   client   \n",
              "4         0       4  manager   \n",
              "..      ...     ...      ...   \n",
              "475       5     138   client   \n",
              "476       5     139   client   \n",
              "477       5     140  manager   \n",
              "478       5     141  manager   \n",
              "479       5     142   client   \n",
              "\n",
              "                                                  text  \n",
              "0                                                 Алло  \n",
              "1                                    Алло здравствуйте  \n",
              "2                                          Добрый день  \n",
              "3    Меня зовут ангелина компания диджитал бизнес з...  \n",
              "4                                                  Ага  \n",
              "..                                                 ...  \n",
              "475  По поводу виджетов и с ними уже обсудите конкр...  \n",
              "476  Все я вам высылаю счет и с вами на связи если ...  \n",
              "477                                    Спасибо спасибо  \n",
              "478     Да да тогда созвонимся ага спасибо вам давайте  \n",
              "479                     Ну до свидания хорошего вечера  \n",
              "\n",
              "[480 rows x 4 columns]"
            ],
            "text/html": [
              "\n",
              "  <div id=\"df-8b1dea06-d889-41b2-aede-350092a06b93\">\n",
              "    <div class=\"colab-df-container\">\n",
              "      <div>\n",
              "<style scoped>\n",
              "    .dataframe tbody tr th:only-of-type {\n",
              "        vertical-align: middle;\n",
              "    }\n",
              "\n",
              "    .dataframe tbody tr th {\n",
              "        vertical-align: top;\n",
              "    }\n",
              "\n",
              "    .dataframe thead th {\n",
              "        text-align: right;\n",
              "    }\n",
              "</style>\n",
              "<table border=\"1\" class=\"dataframe\">\n",
              "  <thead>\n",
              "    <tr style=\"text-align: right;\">\n",
              "      <th></th>\n",
              "      <th>dlg_id</th>\n",
              "      <th>line_n</th>\n",
              "      <th>role</th>\n",
              "      <th>text</th>\n",
              "    </tr>\n",
              "  </thead>\n",
              "  <tbody>\n",
              "    <tr>\n",
              "      <th>0</th>\n",
              "      <td>0</td>\n",
              "      <td>0</td>\n",
              "      <td>manager</td>\n",
              "      <td>Алло</td>\n",
              "    </tr>\n",
              "    <tr>\n",
              "      <th>1</th>\n",
              "      <td>0</td>\n",
              "      <td>1</td>\n",
              "      <td>client</td>\n",
              "      <td>Алло здравствуйте</td>\n",
              "    </tr>\n",
              "    <tr>\n",
              "      <th>2</th>\n",
              "      <td>0</td>\n",
              "      <td>2</td>\n",
              "      <td>manager</td>\n",
              "      <td>Добрый день</td>\n",
              "    </tr>\n",
              "    <tr>\n",
              "      <th>3</th>\n",
              "      <td>0</td>\n",
              "      <td>3</td>\n",
              "      <td>client</td>\n",
              "      <td>Меня зовут ангелина компания диджитал бизнес з...</td>\n",
              "    </tr>\n",
              "    <tr>\n",
              "      <th>4</th>\n",
              "      <td>0</td>\n",
              "      <td>4</td>\n",
              "      <td>manager</td>\n",
              "      <td>Ага</td>\n",
              "    </tr>\n",
              "    <tr>\n",
              "      <th>...</th>\n",
              "      <td>...</td>\n",
              "      <td>...</td>\n",
              "      <td>...</td>\n",
              "      <td>...</td>\n",
              "    </tr>\n",
              "    <tr>\n",
              "      <th>475</th>\n",
              "      <td>5</td>\n",
              "      <td>138</td>\n",
              "      <td>client</td>\n",
              "      <td>По поводу виджетов и с ними уже обсудите конкр...</td>\n",
              "    </tr>\n",
              "    <tr>\n",
              "      <th>476</th>\n",
              "      <td>5</td>\n",
              "      <td>139</td>\n",
              "      <td>client</td>\n",
              "      <td>Все я вам высылаю счет и с вами на связи если ...</td>\n",
              "    </tr>\n",
              "    <tr>\n",
              "      <th>477</th>\n",
              "      <td>5</td>\n",
              "      <td>140</td>\n",
              "      <td>manager</td>\n",
              "      <td>Спасибо спасибо</td>\n",
              "    </tr>\n",
              "    <tr>\n",
              "      <th>478</th>\n",
              "      <td>5</td>\n",
              "      <td>141</td>\n",
              "      <td>manager</td>\n",
              "      <td>Да да тогда созвонимся ага спасибо вам давайте</td>\n",
              "    </tr>\n",
              "    <tr>\n",
              "      <th>479</th>\n",
              "      <td>5</td>\n",
              "      <td>142</td>\n",
              "      <td>client</td>\n",
              "      <td>Ну до свидания хорошего вечера</td>\n",
              "    </tr>\n",
              "  </tbody>\n",
              "</table>\n",
              "<p>480 rows × 4 columns</p>\n",
              "</div>\n",
              "      <button class=\"colab-df-convert\" onclick=\"convertToInteractive('df-8b1dea06-d889-41b2-aede-350092a06b93')\"\n",
              "              title=\"Convert this dataframe to an interactive table.\"\n",
              "              style=\"display:none;\">\n",
              "        \n",
              "  <svg xmlns=\"http://www.w3.org/2000/svg\" height=\"24px\"viewBox=\"0 0 24 24\"\n",
              "       width=\"24px\">\n",
              "    <path d=\"M0 0h24v24H0V0z\" fill=\"none\"/>\n",
              "    <path d=\"M18.56 5.44l.94 2.06.94-2.06 2.06-.94-2.06-.94-.94-2.06-.94 2.06-2.06.94zm-11 1L8.5 8.5l.94-2.06 2.06-.94-2.06-.94L8.5 2.5l-.94 2.06-2.06.94zm10 10l.94 2.06.94-2.06 2.06-.94-2.06-.94-.94-2.06-.94 2.06-2.06.94z\"/><path d=\"M17.41 7.96l-1.37-1.37c-.4-.4-.92-.59-1.43-.59-.52 0-1.04.2-1.43.59L10.3 9.45l-7.72 7.72c-.78.78-.78 2.05 0 2.83L4 21.41c.39.39.9.59 1.41.59.51 0 1.02-.2 1.41-.59l7.78-7.78 2.81-2.81c.8-.78.8-2.07 0-2.86zM5.41 20L4 18.59l7.72-7.72 1.47 1.35L5.41 20z\"/>\n",
              "  </svg>\n",
              "      </button>\n",
              "      \n",
              "  <style>\n",
              "    .colab-df-container {\n",
              "      display:flex;\n",
              "      flex-wrap:wrap;\n",
              "      gap: 12px;\n",
              "    }\n",
              "\n",
              "    .colab-df-convert {\n",
              "      background-color: #E8F0FE;\n",
              "      border: none;\n",
              "      border-radius: 50%;\n",
              "      cursor: pointer;\n",
              "      display: none;\n",
              "      fill: #1967D2;\n",
              "      height: 32px;\n",
              "      padding: 0 0 0 0;\n",
              "      width: 32px;\n",
              "    }\n",
              "\n",
              "    .colab-df-convert:hover {\n",
              "      background-color: #E2EBFA;\n",
              "      box-shadow: 0px 1px 2px rgba(60, 64, 67, 0.3), 0px 1px 3px 1px rgba(60, 64, 67, 0.15);\n",
              "      fill: #174EA6;\n",
              "    }\n",
              "\n",
              "    [theme=dark] .colab-df-convert {\n",
              "      background-color: #3B4455;\n",
              "      fill: #D2E3FC;\n",
              "    }\n",
              "\n",
              "    [theme=dark] .colab-df-convert:hover {\n",
              "      background-color: #434B5C;\n",
              "      box-shadow: 0px 1px 3px 1px rgba(0, 0, 0, 0.15);\n",
              "      filter: drop-shadow(0px 1px 2px rgba(0, 0, 0, 0.3));\n",
              "      fill: #FFFFFF;\n",
              "    }\n",
              "  </style>\n",
              "\n",
              "      <script>\n",
              "        const buttonEl =\n",
              "          document.querySelector('#df-8b1dea06-d889-41b2-aede-350092a06b93 button.colab-df-convert');\n",
              "        buttonEl.style.display =\n",
              "          google.colab.kernel.accessAllowed ? 'block' : 'none';\n",
              "\n",
              "        async function convertToInteractive(key) {\n",
              "          const element = document.querySelector('#df-8b1dea06-d889-41b2-aede-350092a06b93');\n",
              "          const dataTable =\n",
              "            await google.colab.kernel.invokeFunction('convertToInteractive',\n",
              "                                                     [key], {});\n",
              "          if (!dataTable) return;\n",
              "\n",
              "          const docLinkHtml = 'Like what you see? Visit the ' +\n",
              "            '<a target=\"_blank\" href=https://colab.research.google.com/notebooks/data_table.ipynb>data table notebook</a>'\n",
              "            + ' to learn more about interactive tables.';\n",
              "          element.innerHTML = '';\n",
              "          dataTable['output_type'] = 'display_data';\n",
              "          await google.colab.output.renderOutput(dataTable, element);\n",
              "          const docLink = document.createElement('div');\n",
              "          docLink.innerHTML = docLinkHtml;\n",
              "          element.appendChild(docLink);\n",
              "        }\n",
              "      </script>\n",
              "    </div>\n",
              "  </div>\n",
              "  "
            ]
          },
          "metadata": {},
          "execution_count": 7
        }
      ]
    },
    {
      "cell_type": "markdown",
      "source": [
        "Ищем фразы, в которых было приветствие"
      ],
      "metadata": {
        "id": "vMaeFOZxMUO1"
      }
    },
    {
      "cell_type": "code",
      "source": [
        "data['status'] = ''\n",
        "for dlg_id in range(data['dlg_id'].max() + 1):\n",
        "  for line_n in range(5):\n",
        "    for hello in list_hello:\n",
        "      buffer = data[(data['dlg_id'] == dlg_id) & (data['role'] == 'client')]['text'].iloc[line_n].lower()\n",
        "      if hello in buffer:\n",
        "        data.loc[(data['text'] == buffer.capitalize()) & (data['dlg_id'] == dlg_id),'status'] = 'hello'\n",
        "        break"
      ],
      "metadata": {
        "id": "Gp8v7CtcI2Lk"
      },
      "execution_count": 8,
      "outputs": []
    },
    {
      "cell_type": "markdown",
      "source": [
        "Ищем фразы, в которых было прощание"
      ],
      "metadata": {
        "id": "djkERXdhPlkD"
      }
    },
    {
      "cell_type": "code",
      "source": [
        "for dlg_id in range(data['dlg_id'].max() + 1):\n",
        "  for line_n in range(5):\n",
        "    for bye in list_bye:\n",
        "      buffer = data[(data['dlg_id'] == dlg_id) & (data['role'] == 'client')]['text'].iloc[-line_n].lower()\n",
        "      if bye in buffer:\n",
        "        data.loc[(data['text'] == buffer.capitalize()) & (data['dlg_id'] == dlg_id),'status'] = 'bye'\n",
        "        break"
      ],
      "metadata": {
        "id": "5NRIcATkO8Uc"
      },
      "execution_count": 9,
      "outputs": []
    },
    {
      "cell_type": "markdown",
      "source": [
        "Ищем имена во фразах и устанвливаем заглавную букву для повыешния узнаваемости Natasha (предустановленные алгоритмы не работали со строчными буквами). После этого ищем выделенные заглавной буквой имена с помощью Natasha"
      ],
      "metadata": {
        "id": "uNM3qWIYMzW2"
      }
    },
    {
      "cell_type": "code",
      "source": [
        "for dlg_id in range(data['dlg_id'].max() + 1):\n",
        "  for line_n in range(5):\n",
        "    for name in list_names:\n",
        "      name = name.lower()\n",
        "      buffer = data[(data['dlg_id'] == dlg_id) & (data['role'] == 'client')]['text'].iloc[line_n].lower().split(' ')\n",
        "      for count in range(len(buffer)):\n",
        "        if buffer[count] == name:\n",
        "          if 'зовут' in ' '.join(buffer) or 'это' in ' '.join(buffer):\n",
        "            buffer[count] = name.capitalize()\n",
        "            doc = Doc(' '.join(buffer))\n",
        "            doc.segment(segmenter)\n",
        "            doc.tag_ner(ner_tagger)\n",
        "            for span in doc.spans:\n",
        "                span.normalize(morph_vocab)\n",
        "            for span in doc.spans:\n",
        "              if span.type == 'PER':\n",
        "                  span.extract_fact(names_extractor)\n",
        "                  print(span.normal)\n",
        "                  data.loc[(data['text'] == ' '.join(buffer).lower().capitalize()) & (data['dlg_id'] == dlg_id),'status'] = 'name: ' + name.title() + ' '"
      ],
      "metadata": {
        "id": "B8p_v9ejc0N5",
        "colab": {
          "base_uri": "https://localhost:8080/"
        },
        "outputId": "c22cfa58-a93e-4ce9-8bc0-9f241ee13f67"
      },
      "execution_count": 10,
      "outputs": [
        {
          "output_type": "stream",
          "name": "stdout",
          "text": [
            "Ангелина\n",
            "Ангелина\n",
            "Ангелина\n",
            "Максим\n",
            "Анастасия\n"
          ]
        }
      ]
    },
    {
      "cell_type": "markdown",
      "source": [
        "Подготавливаем фразу и анализируем её на предмет названия организации с помощью всё той же Natasha"
      ],
      "metadata": {
        "id": "MvroLcI5Sgqh"
      }
    },
    {
      "cell_type": "code",
      "source": [
        "list_rel = ['amod', 'nmod', 'nsubj', 'nsubjpass', 'appos'] #серия экспериментов показала, что из этих частей речи чаще всего состоят названия организаций\n",
        "for dlg_id in range(data['dlg_id'].max() + 1):\n",
        "  for line_n in range(5):\n",
        "    text = data[(data['dlg_id'] == dlg_id) & (data['role'] == 'client')]['text'].iloc[line_n]\n",
        "    list_org = []\n",
        "    doc1 = Doc(text)\n",
        "    doc1.segment(segmenter)\n",
        "    doc1.parse_syntax(syntax_parser)\n",
        "    for i in range(len(doc1.tokens)):\n",
        "      if 'компани' in doc1.tokens[i].text.lower(): #начиная со слова «компания» начинаем записывать название организации\n",
        "        for j in range(i + 1, len(doc1.tokens)):\n",
        "          if doc1.tokens[j].rel in list_rel:\n",
        "            list_org.append(doc1.tokens[j].text)\n",
        "          else: \n",
        "            data.loc[data['text'] == text,'status'] += ('org: ' + ' '.join(list_org).title())\n",
        "            break\n",
        "        break"
      ],
      "metadata": {
        "id": "-VPe_djGDs04"
      },
      "execution_count": 11,
      "outputs": []
    }
  ]
}